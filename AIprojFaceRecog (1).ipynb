{
  "nbformat": 4,
  "nbformat_minor": 0,
  "metadata": {
    "colab": {
      "name": "AIprojFaceRecog.ipynb",
      "provenance": [],
      "collapsed_sections": []
    },
    "kernelspec": {
      "name": "python3",
      "display_name": "Python 3"
    },
    "language_info": {
      "name": "python"
    },
    "accelerator": "GPU"
  },
  "cells": [
    {
      "cell_type": "code",
      "metadata": {
        "id": "PNMwXOr3CWjm"
      },
      "source": [
        "from __future__ import print_function\n",
        "import keras\n",
        "from keras.preprocessing.image import ImageDataGenerator\n",
        "from keras.models import Sequential\n",
        "from keras.layers import Dense,Dropout,Activation,Flatten,BatchNormalization\n",
        "from keras.layers import Conv2D,MaxPool2D\n",
        "import tensorflow as tf\n",
        "import os\n",
        "import random\n",
        "from keras import regularizers\n",
        "import numpy as np\n",
        "from tqdm import tqdm \n",
        "import nibabel as nib\n",
        "from skimage.io import imread, imshow\n",
        "from skimage.transform import resize\n",
        "import matplotlib.pyplot as plt\n",
        "from __future__ import print_function\n",
        "import keras\n",
        "from keras.preprocessing.image import ImageDataGenerator\n",
        "from keras.models import Sequential\n",
        "from keras.layers import Dense,Dropout,Activation,Flatten,BatchNormalization\n",
        "from keras.layers import Conv2D,MaxPooling2D\n",
        "from tensorflow.keras import layers"
      ],
      "execution_count": null,
      "outputs": []
    },
    {
      "cell_type": "code",
      "metadata": {
        "id": "LcKnoaQhJuji"
      },
      "source": [
        "num_classes = 7\n",
        "img_rows,img_cols = 48,48\n",
        "batch_size = 64"
      ],
      "execution_count": null,
      "outputs": []
    },
    {
      "cell_type": "code",
      "metadata": {
        "id": "mrEh8x4NmaeQ"
      },
      "source": [
        "train_data_dir = '/content/drive/MyDrive/train'\n",
        "validation_data_dir = '/content/drive/MyDrive/validation'\n",
        "test_data_dir = '/content/drive/MyDrive/test (1)'"
      ],
      "execution_count": null,
      "outputs": []
    },
    {
      "cell_type": "code",
      "metadata": {
        "id": "ExROJxPTqwIK"
      },
      "source": [
        "'''train_datagen = ImageDataGenerator(\n",
        "\t\t\t\t\thorizontal_flip=True,\n",
        "\t\t\t\t\tfill_mode='nearest')'''\n",
        "train_datagen = ImageDataGenerator(#rotation_range = 180,\n",
        "                                         width_shift_range = 0.1,\n",
        "                                         height_shift_range = 0.1,\n",
        "                                         horizontal_flip = True,\n",
        "                                         rescale = 1./255,\n",
        "                                         #zoom_range = 0.2,\n",
        "                                         validation_split = 0.2\n",
        "                                        )\n",
        "validation_datagen = ImageDataGenerator(rescale = 1./255,\n",
        "                                         validation_split = 0.2)"
      ],
      "execution_count": null,
      "outputs": []
    },
    {
      "cell_type": "code",
      "metadata": {
        "id": "FGXQyyveq1T5",
        "colab": {
          "base_uri": "https://localhost:8080/",
          "height": 35
        },
        "outputId": "a8c3667d-12dc-4ec4-cf91-e76d928746a0"
      },
      "source": [
        "'''validation_datagen = ImageDataGenerator(rescale=1./255)'''"
      ],
      "execution_count": null,
      "outputs": [
        {
          "output_type": "execute_result",
          "data": {
            "application/vnd.google.colaboratory.intrinsic+json": {
              "type": "string"
            },
            "text/plain": [
              "'validation_datagen = ImageDataGenerator(rescale=1./255)'"
            ]
          },
          "metadata": {
            "tags": []
          },
          "execution_count": 5
        }
      ]
    },
    {
      "cell_type": "code",
      "metadata": {
        "colab": {
          "base_uri": "https://localhost:8080/"
        },
        "id": "snNSfOIuq3rm",
        "outputId": "5010ee98-080c-472f-bcae-8bf174d6f742"
      },
      "source": [
        "'''train_generator = train_datagen.flow_from_directory(\n",
        "\t\t\t\t\ttrain_data_dir,\n",
        "\t\t\t\t\tcolor_mode='grayscale',\n",
        "\t\t\t\t\ttarget_size=(img_rows,img_cols),\n",
        "\t\t\t\t\tbatch_size=batch_size,\n",
        "\t\t\t\t\tclass_mode='categorical',\n",
        "\t\t\t\t\tshuffle=True,\n",
        "          subset='training')'''\n",
        "train_generator = train_datagen.flow_from_directory(directory = train_data_dir,\n",
        "                                                    target_size = (img_rows,img_cols),\n",
        "                                                    batch_size = 64,\n",
        "                                                    color_mode = \"grayscale\",\n",
        "                                                    class_mode = \"categorical\",\n",
        "                                                    subset = \"training\"\n",
        "                                                   )"
      ],
      "execution_count": null,
      "outputs": [
        {
          "output_type": "stream",
          "text": [
            "Found 23063 images belonging to 7 classes.\n"
          ],
          "name": "stdout"
        }
      ]
    },
    {
      "cell_type": "code",
      "metadata": {
        "colab": {
          "base_uri": "https://localhost:8080/"
        },
        "id": "9oV-UCEAq5qX",
        "outputId": "cc20174b-b74b-42a3-a08c-44317bc35b7f"
      },
      "source": [
        "'''validation_generator = validation_datagen.flow_from_directory(\n",
        "\t\t\t\t\t\t\tvalidation_data_dir,\n",
        "\t\t\t\t\t\t\tcolor_mode='grayscale',\n",
        "\t\t\t\t\t\t\ttarget_size=(img_rows,img_cols),\n",
        "\t\t\t\t\t\t\tbatch_size=batch_size,\n",
        "\t\t\t\t\t\t\tclass_mode='categorical',\n",
        "\t\t\t\t\t\t\tshuffle=True)'''\n",
        "validation_generator = validation_datagen.flow_from_directory( directory = test_data_dir,\n",
        "                                                              target_size = (img_rows,img_cols),\n",
        "                                                              batch_size = 64,\n",
        "                                                              color_mode = \"grayscale\",\n",
        "                                                              class_mode = \"categorical\",\n",
        "                                                              subset = \"validation\"\n",
        "                                                             )"
      ],
      "execution_count": null,
      "outputs": [
        {
          "output_type": "stream",
          "text": [
            "Found 1432 images belonging to 7 classes.\n"
          ],
          "name": "stdout"
        }
      ]
    },
    {
      "cell_type": "code",
      "metadata": {
        "colab": {
          "base_uri": "https://localhost:8080/"
        },
        "id": "wABs-BuVMX5j",
        "outputId": "3940c627-e3bf-48c2-fd75-b92be18d40a1"
      },
      "source": [
        "from keras.optimizers import RMSprop,SGD,Adam\n",
        "from keras.callbacks import ModelCheckpoint, EarlyStopping, ReduceLROnPlateau\n",
        "model= tf.keras.models.Sequential()\n",
        "model.add(Conv2D(32, kernel_size=(3, 3), padding='same', activation='relu', input_shape=(48, 48,1)))\n",
        "model.add(Conv2D(64,(3,3), padding='same', activation='relu' ))\n",
        "model.add(BatchNormalization())\n",
        "model.add(MaxPool2D(pool_size=(2, 2)))\n",
        "model.add(Dropout(0.25))\n",
        "\n",
        "model.add(Conv2D(128,(5,5), padding='same', activation='relu'))\n",
        "model.add(BatchNormalization())\n",
        "model.add(MaxPool2D(pool_size=(2, 2)))\n",
        "model.add(Dropout(0.25))\n",
        "    \n",
        "model.add(Conv2D(512,(3,3), padding='same', activation='relu', kernel_regularizer=regularizers.l2(0.01)))\n",
        "model.add(BatchNormalization())\n",
        "model.add(MaxPool2D(pool_size=(2, 2)))\n",
        "model.add(Dropout(0.25))\n",
        "\n",
        "model.add(Conv2D(512,(3,3), padding='same', activation='relu', kernel_regularizer=regularizers.l2(0.01)))\n",
        "model.add(BatchNormalization())\n",
        "model.add(MaxPool2D(pool_size=(2, 2)))\n",
        "model.add(Dropout(0.25))\n",
        "\n",
        "model.add(Flatten()) \n",
        "model.add(Dense(256,activation = 'relu'))\n",
        "model.add(BatchNormalization())\n",
        "model.add(Dropout(0.25))\n",
        "    \n",
        "model.add(Dense(512,activation = 'relu'))\n",
        "model.add(BatchNormalization())\n",
        "model.add(Dropout(0.25))\n",
        "\n",
        "model.add(Dense(7, activation='softmax'))\n",
        "\n",
        "model.compile(\n",
        "    optimizer = Adam(lr=0.0001), \n",
        "    loss='categorical_crossentropy', \n",
        "    metrics=['accuracy']\n",
        "  )\n",
        "model.summary()"
      ],
      "execution_count": null,
      "outputs": [
        {
          "output_type": "stream",
          "text": [
            "Model: \"sequential\"\n",
            "_________________________________________________________________\n",
            "Layer (type)                 Output Shape              Param #   \n",
            "=================================================================\n",
            "conv2d (Conv2D)              (None, 48, 48, 32)        320       \n",
            "_________________________________________________________________\n",
            "conv2d_1 (Conv2D)            (None, 48, 48, 64)        18496     \n",
            "_________________________________________________________________\n",
            "batch_normalization (BatchNo (None, 48, 48, 64)        256       \n",
            "_________________________________________________________________\n",
            "max_pooling2d (MaxPooling2D) (None, 24, 24, 64)        0         \n",
            "_________________________________________________________________\n",
            "dropout (Dropout)            (None, 24, 24, 64)        0         \n",
            "_________________________________________________________________\n",
            "conv2d_2 (Conv2D)            (None, 24, 24, 128)       204928    \n",
            "_________________________________________________________________\n",
            "batch_normalization_1 (Batch (None, 24, 24, 128)       512       \n",
            "_________________________________________________________________\n",
            "max_pooling2d_1 (MaxPooling2 (None, 12, 12, 128)       0         \n",
            "_________________________________________________________________\n",
            "dropout_1 (Dropout)          (None, 12, 12, 128)       0         \n",
            "_________________________________________________________________\n",
            "conv2d_3 (Conv2D)            (None, 12, 12, 512)       590336    \n",
            "_________________________________________________________________\n",
            "batch_normalization_2 (Batch (None, 12, 12, 512)       2048      \n",
            "_________________________________________________________________\n",
            "max_pooling2d_2 (MaxPooling2 (None, 6, 6, 512)         0         \n",
            "_________________________________________________________________\n",
            "dropout_2 (Dropout)          (None, 6, 6, 512)         0         \n",
            "_________________________________________________________________\n",
            "conv2d_4 (Conv2D)            (None, 6, 6, 512)         2359808   \n",
            "_________________________________________________________________\n",
            "batch_normalization_3 (Batch (None, 6, 6, 512)         2048      \n",
            "_________________________________________________________________\n",
            "max_pooling2d_3 (MaxPooling2 (None, 3, 3, 512)         0         \n",
            "_________________________________________________________________\n",
            "dropout_3 (Dropout)          (None, 3, 3, 512)         0         \n",
            "_________________________________________________________________\n",
            "flatten (Flatten)            (None, 4608)              0         \n",
            "_________________________________________________________________\n",
            "dense (Dense)                (None, 256)               1179904   \n",
            "_________________________________________________________________\n",
            "batch_normalization_4 (Batch (None, 256)               1024      \n",
            "_________________________________________________________________\n",
            "dropout_4 (Dropout)          (None, 256)               0         \n",
            "_________________________________________________________________\n",
            "dense_1 (Dense)              (None, 512)               131584    \n",
            "_________________________________________________________________\n",
            "batch_normalization_5 (Batch (None, 512)               2048      \n",
            "_________________________________________________________________\n",
            "dropout_5 (Dropout)          (None, 512)               0         \n",
            "_________________________________________________________________\n",
            "dense_2 (Dense)              (None, 7)                 3591      \n",
            "=================================================================\n",
            "Total params: 4,496,903\n",
            "Trainable params: 4,492,935\n",
            "Non-trainable params: 3,968\n",
            "_________________________________________________________________\n"
          ],
          "name": "stdout"
        }
      ]
    },
    {
      "cell_type": "code",
      "metadata": {
        "colab": {
          "base_uri": "https://localhost:8080/",
          "height": 139
        },
        "id": "KFSgdNL0MC3Q",
        "outputId": "685c0ac4-db09-4316-81d3-554955de1250"
      },
      "source": [
        "'''from __future__ import print_function\n",
        "import keras\n",
        "from keras.preprocessing.image import ImageDataGenerator\n",
        "from keras.models import Sequential\n",
        "from keras.layers import Dense,Dropout,Activation,Flatten,BatchNormalization\n",
        "from keras.layers import Conv2D,MaxPooling2D\n",
        "from tensorflow.keras import layers\n",
        "model = keras.Sequential()\n",
        "\n",
        "model.add(layers.Conv2D(filters=6, kernel_size=(3, 3), activation='relu', input_shape=(32,32,1)))\n",
        "model.add(layers.AveragePooling2D())\n",
        "\n",
        "model.add(layers.Conv2D(filters=16, kernel_size=(3, 3), activation='relu'))\n",
        "model.add(layers.AveragePooling2D())\n",
        "\n",
        "model.add(layers.Flatten())\n",
        "\n",
        "model.add(layers.Dense(units=120, activation='relu'))\n",
        "\n",
        "model.add(layers.Dense(units=84, activation='relu'))\n",
        "model.add(layers.Dense(num_classes, activation = 'softmax'))\n",
        "model.add(Flatten())\n",
        "model.add(Dense(units=4096,activation=\"relu\"))\n",
        "model.add(Dense(units=4096,activation=\"relu\"))\n",
        "model.add(Dense(units=7, activation=\"sigmoid\"))\n",
        "model.summary()'''"
      ],
      "execution_count": null,
      "outputs": [
        {
          "output_type": "execute_result",
          "data": {
            "application/vnd.google.colaboratory.intrinsic+json": {
              "type": "string"
            },
            "text/plain": [
              "'from __future__ import print_function\\nimport keras\\nfrom keras.preprocessing.image import ImageDataGenerator\\nfrom keras.models import Sequential\\nfrom keras.layers import Dense,Dropout,Activation,Flatten,BatchNormalization\\nfrom keras.layers import Conv2D,MaxPooling2D\\nfrom tensorflow.keras import layers\\nmodel = keras.Sequential()\\n\\nmodel.add(layers.Conv2D(filters=6, kernel_size=(3, 3), activation=\\'relu\\', input_shape=(32,32,1)))\\nmodel.add(layers.AveragePooling2D())\\n\\nmodel.add(layers.Conv2D(filters=16, kernel_size=(3, 3), activation=\\'relu\\'))\\nmodel.add(layers.AveragePooling2D())\\n\\nmodel.add(layers.Flatten())\\n\\nmodel.add(layers.Dense(units=120, activation=\\'relu\\'))\\n\\nmodel.add(layers.Dense(units=84, activation=\\'relu\\'))\\nmodel.add(layers.Dense(num_classes, activation = \\'softmax\\'))\\nmodel.add(Flatten())\\nmodel.add(Dense(units=4096,activation=\"relu\"))\\nmodel.add(Dense(units=4096,activation=\"relu\"))\\nmodel.add(Dense(units=7, activation=\"sigmoid\"))\\nmodel.summary()'"
            ]
          },
          "metadata": {
            "tags": []
          },
          "execution_count": 9
        }
      ]
    },
    {
      "cell_type": "code",
      "metadata": {
        "id": "JzNrRPg3rhDr"
      },
      "source": [
        "from keras.optimizers import RMSprop,SGD,Adam\n",
        "from keras.callbacks import ModelCheckpoint, EarlyStopping, ReduceLROnPlateau"
      ],
      "execution_count": null,
      "outputs": []
    },
    {
      "cell_type": "code",
      "metadata": {
        "id": "E1S_-1Ggrlnt"
      },
      "source": [
        "checkpoint = ModelCheckpoint('Emotion_weights.h5',\n",
        "                             monitor='val_loss',\n",
        "                             mode='min',\n",
        "                             save_best_only=True,\n",
        "                             verbose=1)"
      ],
      "execution_count": null,
      "outputs": []
    },
    {
      "cell_type": "code",
      "metadata": {
        "id": "G0-O-Akyst7o",
        "colab": {
          "base_uri": "https://localhost:8080/",
          "height": 53
        },
        "outputId": "e96496b6-c387-4dc5-9ae2-4668eacdf332"
      },
      "source": [
        "'''earlystop = EarlyStopping(monitor='val_loss',\n",
        "                          min_delta=0,\n",
        "                          patience=3,\n",
        "                          verbose=1,\n",
        "                          restore_best_weights=True\n",
        "                          )'''"
      ],
      "execution_count": null,
      "outputs": [
        {
          "output_type": "execute_result",
          "data": {
            "application/vnd.google.colaboratory.intrinsic+json": {
              "type": "string"
            },
            "text/plain": [
              "\"earlystop = EarlyStopping(monitor='val_loss',\\n                          min_delta=0,\\n                          patience=3,\\n                          verbose=1,\\n                          restore_best_weights=True\\n                          )\""
            ]
          },
          "metadata": {
            "tags": []
          },
          "execution_count": 12
        }
      ]
    },
    {
      "cell_type": "code",
      "metadata": {
        "id": "_tT6K9crsxI7",
        "colab": {
          "base_uri": "https://localhost:8080/",
          "height": 53
        },
        "outputId": "026aeb70-c0dc-4b32-bdc6-5f9e2b5296eb"
      },
      "source": [
        "'''reduce_lr = ReduceLROnPlateau(monitor='val_loss',\n",
        "                              factor=0.2,\n",
        "                              patience=3,\n",
        "                              verbose=1,\n",
        "                              min_delta=0.0001)'''"
      ],
      "execution_count": null,
      "outputs": [
        {
          "output_type": "execute_result",
          "data": {
            "application/vnd.google.colaboratory.intrinsic+json": {
              "type": "string"
            },
            "text/plain": [
              "\"reduce_lr = ReduceLROnPlateau(monitor='val_loss',\\n                              factor=0.2,\\n                              patience=3,\\n                              verbose=1,\\n                              min_delta=0.0001)\""
            ]
          },
          "metadata": {
            "tags": []
          },
          "execution_count": 13
        }
      ]
    },
    {
      "cell_type": "code",
      "metadata": {
        "id": "K2OtDgmoszBm"
      },
      "source": [
        "'''callbacks = [earlystop,checkpoint,reduce_lr]'''\n",
        "callbacks = [checkpoint]"
      ],
      "execution_count": null,
      "outputs": []
    },
    {
      "cell_type": "code",
      "metadata": {
        "id": "6RZKmLkUs1Tj",
        "colab": {
          "base_uri": "https://localhost:8080/",
          "height": 35
        },
        "outputId": "2597d080-774e-457f-943b-a0eb8eca2b1c"
      },
      "source": [
        "'''model.compile(loss='categorical_crossentropy',\n",
        "              optimizer = Adam(lr=0.001),\n",
        "              metrics=['accuracy'])'''"
      ],
      "execution_count": null,
      "outputs": [
        {
          "output_type": "execute_result",
          "data": {
            "application/vnd.google.colaboratory.intrinsic+json": {
              "type": "string"
            },
            "text/plain": [
              "\"model.compile(loss='categorical_crossentropy',\\n              optimizer = Adam(lr=0.001),\\n              metrics=['accuracy'])\""
            ]
          },
          "metadata": {
            "tags": []
          },
          "execution_count": 15
        }
      ]
    },
    {
      "cell_type": "code",
      "metadata": {
        "id": "DZwdTtrjs3NU"
      },
      "source": [
        "epochs=100"
      ],
      "execution_count": null,
      "outputs": []
    },
    {
      "cell_type": "code",
      "metadata": {
        "colab": {
          "base_uri": "https://localhost:8080/"
        },
        "id": "CGXXuuHes498",
        "outputId": "b216c62d-47b8-40ae-93ad-f8463b12425a"
      },
      "source": [
        "history = model.fit(x = train_generator,epochs = epochs,validation_data = validation_generator)"
      ],
      "execution_count": null,
      "outputs": [
        {
          "output_type": "stream",
          "text": [
            "Epoch 1/100\n",
            "361/361 [==============================] - 8437s 23s/step - loss: 9.5818 - accuracy: 0.1828 - val_loss: 9.1615 - val_accuracy: 0.1739\n",
            "Epoch 2/100\n",
            "361/361 [==============================] - 52s 145ms/step - loss: 8.4502 - accuracy: 0.2255 - val_loss: 7.5307 - val_accuracy: 0.2870\n",
            "Epoch 3/100\n",
            "361/361 [==============================] - 52s 144ms/step - loss: 7.4200 - accuracy: 0.2548 - val_loss: 6.4261 - val_accuracy: 0.3380\n",
            "Epoch 4/100\n",
            "361/361 [==============================] - 52s 143ms/step - loss: 6.3843 - accuracy: 0.2804 - val_loss: 5.4801 - val_accuracy: 0.3722\n",
            "Epoch 5/100\n",
            "361/361 [==============================] - 51s 141ms/step - loss: 5.4833 - accuracy: 0.3034 - val_loss: 4.6312 - val_accuracy: 0.3959\n",
            "Epoch 6/100\n",
            "361/361 [==============================] - 51s 142ms/step - loss: 4.6701 - accuracy: 0.3395 - val_loss: 4.0858 - val_accuracy: 0.4148\n",
            "Epoch 7/100\n",
            "361/361 [==============================] - 51s 141ms/step - loss: 4.0252 - accuracy: 0.3654 - val_loss: 3.5693 - val_accuracy: 0.3987\n",
            "Epoch 8/100\n",
            "361/361 [==============================] - 52s 143ms/step - loss: 3.4996 - accuracy: 0.3937 - val_loss: 3.3054 - val_accuracy: 0.4071\n",
            "Epoch 9/100\n",
            "361/361 [==============================] - 52s 143ms/step - loss: 3.0797 - accuracy: 0.4115 - val_loss: 2.6259 - val_accuracy: 0.5154\n",
            "Epoch 10/100\n",
            "361/361 [==============================] - 51s 142ms/step - loss: 2.7717 - accuracy: 0.4316 - val_loss: 2.3937 - val_accuracy: 0.5168\n",
            "Epoch 11/100\n",
            "361/361 [==============================] - 51s 141ms/step - loss: 2.5105 - accuracy: 0.4544 - val_loss: 2.2201 - val_accuracy: 0.5175\n",
            "Epoch 12/100\n",
            "361/361 [==============================] - 51s 142ms/step - loss: 2.2963 - accuracy: 0.4772 - val_loss: 2.1133 - val_accuracy: 0.5182\n",
            "Epoch 13/100\n",
            "361/361 [==============================] - 51s 142ms/step - loss: 2.1283 - accuracy: 0.4937 - val_loss: 1.9278 - val_accuracy: 0.5622\n",
            "Epoch 14/100\n",
            "361/361 [==============================] - 51s 142ms/step - loss: 1.9934 - accuracy: 0.5031 - val_loss: 1.7877 - val_accuracy: 0.5635\n",
            "Epoch 15/100\n",
            "361/361 [==============================] - 52s 143ms/step - loss: 1.8850 - accuracy: 0.5152 - val_loss: 1.6907 - val_accuracy: 0.5740\n",
            "Epoch 16/100\n",
            "361/361 [==============================] - 51s 142ms/step - loss: 1.7973 - accuracy: 0.5339 - val_loss: 1.6286 - val_accuracy: 0.5775\n",
            "Epoch 17/100\n",
            "361/361 [==============================] - 51s 142ms/step - loss: 1.7371 - accuracy: 0.5379 - val_loss: 1.6371 - val_accuracy: 0.5915\n",
            "Epoch 18/100\n",
            "361/361 [==============================] - 51s 142ms/step - loss: 1.6783 - accuracy: 0.5463 - val_loss: 1.4944 - val_accuracy: 0.6250\n",
            "Epoch 19/100\n",
            "361/361 [==============================] - 52s 144ms/step - loss: 1.6257 - accuracy: 0.5560 - val_loss: 1.4931 - val_accuracy: 0.6047\n",
            "Epoch 20/100\n",
            "361/361 [==============================] - 51s 143ms/step - loss: 1.5961 - accuracy: 0.5587 - val_loss: 1.4532 - val_accuracy: 0.6159\n",
            "Epoch 21/100\n",
            "361/361 [==============================] - 51s 142ms/step - loss: 1.5496 - accuracy: 0.5766 - val_loss: 1.3997 - val_accuracy: 0.6383\n",
            "Epoch 22/100\n",
            "361/361 [==============================] - 52s 143ms/step - loss: 1.5343 - accuracy: 0.5798 - val_loss: 1.4515 - val_accuracy: 0.6117\n",
            "Epoch 23/100\n",
            "361/361 [==============================] - 51s 142ms/step - loss: 1.5183 - accuracy: 0.5767 - val_loss: 1.3970 - val_accuracy: 0.6243\n",
            "Epoch 24/100\n",
            "361/361 [==============================] - 51s 142ms/step - loss: 1.4932 - accuracy: 0.5897 - val_loss: 1.4048 - val_accuracy: 0.6313\n",
            "Epoch 25/100\n",
            "361/361 [==============================] - 51s 141ms/step - loss: 1.4652 - accuracy: 0.5973 - val_loss: 1.3577 - val_accuracy: 0.6473\n",
            "Epoch 26/100\n",
            "361/361 [==============================] - 51s 142ms/step - loss: 1.4707 - accuracy: 0.5943 - val_loss: 1.3428 - val_accuracy: 0.6320\n",
            "Epoch 27/100\n",
            "361/361 [==============================] - 51s 141ms/step - loss: 1.4456 - accuracy: 0.6006 - val_loss: 1.3393 - val_accuracy: 0.6425\n",
            "Epoch 28/100\n",
            "361/361 [==============================] - 51s 142ms/step - loss: 1.4619 - accuracy: 0.6000 - val_loss: 1.3348 - val_accuracy: 0.6620\n",
            "Epoch 29/100\n",
            "361/361 [==============================] - 51s 141ms/step - loss: 1.4338 - accuracy: 0.6023 - val_loss: 1.3619 - val_accuracy: 0.6536\n",
            "Epoch 30/100\n",
            "361/361 [==============================] - 51s 141ms/step - loss: 1.4306 - accuracy: 0.6079 - val_loss: 1.3223 - val_accuracy: 0.6634\n",
            "Epoch 31/100\n",
            "361/361 [==============================] - 51s 142ms/step - loss: 1.4240 - accuracy: 0.6104 - val_loss: 1.3348 - val_accuracy: 0.6480\n",
            "Epoch 32/100\n",
            "361/361 [==============================] - 51s 141ms/step - loss: 1.3991 - accuracy: 0.6186 - val_loss: 1.3039 - val_accuracy: 0.6571\n",
            "Epoch 33/100\n",
            "361/361 [==============================] - 51s 141ms/step - loss: 1.4097 - accuracy: 0.6177 - val_loss: 1.2787 - val_accuracy: 0.6676\n",
            "Epoch 34/100\n",
            "361/361 [==============================] - 51s 142ms/step - loss: 1.3818 - accuracy: 0.6259 - val_loss: 1.3924 - val_accuracy: 0.6215\n",
            "Epoch 35/100\n",
            "361/361 [==============================] - 51s 141ms/step - loss: 1.3789 - accuracy: 0.6308 - val_loss: 1.3139 - val_accuracy: 0.6515\n",
            "Epoch 36/100\n",
            "361/361 [==============================] - 51s 140ms/step - loss: 1.3848 - accuracy: 0.6285 - val_loss: 1.2982 - val_accuracy: 0.6571\n",
            "Epoch 37/100\n",
            "361/361 [==============================] - 51s 142ms/step - loss: 1.3770 - accuracy: 0.6332 - val_loss: 1.3339 - val_accuracy: 0.6529\n",
            "Epoch 38/100\n",
            "361/361 [==============================] - 51s 141ms/step - loss: 1.3741 - accuracy: 0.6345 - val_loss: 1.3475 - val_accuracy: 0.6466\n",
            "Epoch 39/100\n",
            "361/361 [==============================] - 50s 139ms/step - loss: 1.3678 - accuracy: 0.6368 - val_loss: 1.2548 - val_accuracy: 0.6948\n",
            "Epoch 40/100\n",
            "361/361 [==============================] - 51s 142ms/step - loss: 1.3644 - accuracy: 0.6419 - val_loss: 1.3129 - val_accuracy: 0.6725\n",
            "Epoch 41/100\n",
            "361/361 [==============================] - 50s 140ms/step - loss: 1.3525 - accuracy: 0.6447 - val_loss: 1.2616 - val_accuracy: 0.6837\n",
            "Epoch 42/100\n",
            "361/361 [==============================] - 50s 140ms/step - loss: 1.3548 - accuracy: 0.6455 - val_loss: 1.3090 - val_accuracy: 0.6669\n",
            "Epoch 43/100\n",
            "361/361 [==============================] - 51s 141ms/step - loss: 1.3564 - accuracy: 0.6446 - val_loss: 1.3056 - val_accuracy: 0.6711\n",
            "Epoch 44/100\n",
            "361/361 [==============================] - 51s 140ms/step - loss: 1.3481 - accuracy: 0.6480 - val_loss: 1.2332 - val_accuracy: 0.7004\n",
            "Epoch 45/100\n",
            "361/361 [==============================] - 50s 139ms/step - loss: 1.3527 - accuracy: 0.6508 - val_loss: 1.3011 - val_accuracy: 0.6795\n",
            "Epoch 46/100\n",
            "361/361 [==============================] - 51s 142ms/step - loss: 1.3528 - accuracy: 0.6513 - val_loss: 1.2294 - val_accuracy: 0.7067\n",
            "Epoch 47/100\n",
            "361/361 [==============================] - 51s 140ms/step - loss: 1.3452 - accuracy: 0.6555 - val_loss: 1.2449 - val_accuracy: 0.7067\n",
            "Epoch 48/100\n",
            "361/361 [==============================] - 51s 141ms/step - loss: 1.3420 - accuracy: 0.6606 - val_loss: 1.2651 - val_accuracy: 0.6948\n",
            "Epoch 49/100\n",
            "361/361 [==============================] - 51s 141ms/step - loss: 1.3472 - accuracy: 0.6556 - val_loss: 1.2571 - val_accuracy: 0.6983\n",
            "Epoch 50/100\n",
            "361/361 [==============================] - 51s 141ms/step - loss: 1.3518 - accuracy: 0.6574 - val_loss: 1.2987 - val_accuracy: 0.6830\n",
            "Epoch 51/100\n",
            "361/361 [==============================] - 51s 140ms/step - loss: 1.3454 - accuracy: 0.6536 - val_loss: 1.2280 - val_accuracy: 0.7046\n",
            "Epoch 52/100\n",
            "361/361 [==============================] - 51s 142ms/step - loss: 1.3363 - accuracy: 0.6641 - val_loss: 1.2319 - val_accuracy: 0.7144\n",
            "Epoch 53/100\n",
            "361/361 [==============================] - 51s 141ms/step - loss: 1.3312 - accuracy: 0.6564 - val_loss: 1.2256 - val_accuracy: 0.7130\n",
            "Epoch 54/100\n",
            "361/361 [==============================] - 51s 140ms/step - loss: 1.3303 - accuracy: 0.6682 - val_loss: 1.2571 - val_accuracy: 0.7123\n",
            "Epoch 55/100\n",
            "361/361 [==============================] - 51s 142ms/step - loss: 1.3255 - accuracy: 0.6660 - val_loss: 1.2437 - val_accuracy: 0.7081\n",
            "Epoch 56/100\n",
            "361/361 [==============================] - 51s 140ms/step - loss: 1.3278 - accuracy: 0.6671 - val_loss: 1.2397 - val_accuracy: 0.7144\n",
            "Epoch 57/100\n",
            "361/361 [==============================] - 51s 140ms/step - loss: 1.3432 - accuracy: 0.6633 - val_loss: 1.2224 - val_accuracy: 0.7102\n",
            "Epoch 58/100\n",
            "361/361 [==============================] - 51s 142ms/step - loss: 1.3221 - accuracy: 0.6786 - val_loss: 1.2262 - val_accuracy: 0.7228\n",
            "Epoch 59/100\n",
            "361/361 [==============================] - 51s 140ms/step - loss: 1.3386 - accuracy: 0.6625 - val_loss: 1.2233 - val_accuracy: 0.7151\n",
            "Epoch 60/100\n",
            "361/361 [==============================] - 51s 140ms/step - loss: 1.3133 - accuracy: 0.6773 - val_loss: 1.2633 - val_accuracy: 0.6927\n",
            "Epoch 61/100\n",
            "361/361 [==============================] - 51s 141ms/step - loss: 1.3244 - accuracy: 0.6707 - val_loss: 1.2415 - val_accuracy: 0.7179\n",
            "Epoch 62/100\n",
            "361/361 [==============================] - 51s 140ms/step - loss: 1.3154 - accuracy: 0.6802 - val_loss: 1.2308 - val_accuracy: 0.7109\n",
            "Epoch 63/100\n",
            "361/361 [==============================] - 51s 141ms/step - loss: 1.3243 - accuracy: 0.6722 - val_loss: 1.2308 - val_accuracy: 0.7221\n",
            "Epoch 64/100\n",
            "361/361 [==============================] - 51s 142ms/step - loss: 1.3164 - accuracy: 0.6736 - val_loss: 1.2361 - val_accuracy: 0.7130\n",
            "Epoch 65/100\n",
            "361/361 [==============================] - 51s 140ms/step - loss: 1.3116 - accuracy: 0.6804 - val_loss: 1.2748 - val_accuracy: 0.7046\n",
            "Epoch 66/100\n",
            "361/361 [==============================] - 51s 141ms/step - loss: 1.3108 - accuracy: 0.6791 - val_loss: 1.2295 - val_accuracy: 0.7249\n",
            "Epoch 67/100\n",
            "361/361 [==============================] - 51s 141ms/step - loss: 1.3160 - accuracy: 0.6786 - val_loss: 1.2242 - val_accuracy: 0.7207\n",
            "Epoch 68/100\n",
            "361/361 [==============================] - 51s 141ms/step - loss: 1.3042 - accuracy: 0.6869 - val_loss: 1.2949 - val_accuracy: 0.7067\n",
            "Epoch 69/100\n",
            "361/361 [==============================] - 51s 140ms/step - loss: 1.3101 - accuracy: 0.6824 - val_loss: 1.2038 - val_accuracy: 0.7263\n",
            "Epoch 70/100\n",
            "361/361 [==============================] - 51s 143ms/step - loss: 1.3122 - accuracy: 0.6821 - val_loss: 1.2520 - val_accuracy: 0.7116\n",
            "Epoch 71/100\n",
            "361/361 [==============================] - 51s 140ms/step - loss: 1.2950 - accuracy: 0.6904 - val_loss: 1.2451 - val_accuracy: 0.7214\n",
            "Epoch 72/100\n",
            "361/361 [==============================] - 51s 142ms/step - loss: 1.2919 - accuracy: 0.6922 - val_loss: 1.2276 - val_accuracy: 0.7214\n",
            "Epoch 73/100\n",
            "361/361 [==============================] - 51s 141ms/step - loss: 1.3114 - accuracy: 0.6868 - val_loss: 1.2151 - val_accuracy: 0.7332\n",
            "Epoch 74/100\n",
            "361/361 [==============================] - 51s 142ms/step - loss: 1.3111 - accuracy: 0.6861 - val_loss: 1.2441 - val_accuracy: 0.7137\n",
            "Epoch 75/100\n",
            "361/361 [==============================] - 51s 141ms/step - loss: 1.2894 - accuracy: 0.6972 - val_loss: 1.2109 - val_accuracy: 0.7318\n",
            "Epoch 76/100\n",
            "361/361 [==============================] - 51s 142ms/step - loss: 1.3083 - accuracy: 0.6874 - val_loss: 1.1938 - val_accuracy: 0.7374\n",
            "Epoch 77/100\n",
            "361/361 [==============================] - 51s 141ms/step - loss: 1.2991 - accuracy: 0.6909 - val_loss: 1.2316 - val_accuracy: 0.7284\n",
            "Epoch 78/100\n",
            "361/361 [==============================] - 51s 142ms/step - loss: 1.3036 - accuracy: 0.6934 - val_loss: 1.2360 - val_accuracy: 0.7311\n",
            "Epoch 79/100\n",
            "361/361 [==============================] - 51s 141ms/step - loss: 1.2984 - accuracy: 0.7009 - val_loss: 1.2383 - val_accuracy: 0.7249\n",
            "Epoch 80/100\n",
            "361/361 [==============================] - 51s 141ms/step - loss: 1.3148 - accuracy: 0.6905 - val_loss: 1.2460 - val_accuracy: 0.7353\n",
            "Epoch 81/100\n",
            "361/361 [==============================] - 51s 141ms/step - loss: 1.3052 - accuracy: 0.6946 - val_loss: 1.2134 - val_accuracy: 0.7437\n",
            "Epoch 82/100\n",
            "361/361 [==============================] - 51s 142ms/step - loss: 1.2902 - accuracy: 0.7009 - val_loss: 1.3023 - val_accuracy: 0.7102\n",
            "Epoch 83/100\n",
            "361/361 [==============================] - 51s 140ms/step - loss: 1.3072 - accuracy: 0.6925 - val_loss: 1.2175 - val_accuracy: 0.7381\n",
            "Epoch 84/100\n",
            "361/361 [==============================] - 51s 142ms/step - loss: 1.2756 - accuracy: 0.7046 - val_loss: 1.2138 - val_accuracy: 0.7304\n",
            "Epoch 85/100\n",
            "361/361 [==============================] - 51s 141ms/step - loss: 1.2927 - accuracy: 0.6998 - val_loss: 1.1988 - val_accuracy: 0.7465\n",
            "Epoch 86/100\n",
            "361/361 [==============================] - 51s 140ms/step - loss: 1.3007 - accuracy: 0.6959 - val_loss: 1.1814 - val_accuracy: 0.7507\n",
            "Epoch 87/100\n",
            "361/361 [==============================] - 51s 141ms/step - loss: 1.2966 - accuracy: 0.6994 - val_loss: 1.2242 - val_accuracy: 0.7402\n",
            "Epoch 88/100\n",
            "361/361 [==============================] - 51s 141ms/step - loss: 1.2905 - accuracy: 0.6981 - val_loss: 1.2185 - val_accuracy: 0.7367\n",
            "Epoch 89/100\n",
            "361/361 [==============================] - 51s 141ms/step - loss: 1.2967 - accuracy: 0.6982 - val_loss: 1.2548 - val_accuracy: 0.7284\n",
            "Epoch 90/100\n",
            "361/361 [==============================] - 51s 142ms/step - loss: 1.2920 - accuracy: 0.6984 - val_loss: 1.2248 - val_accuracy: 0.7409\n",
            "Epoch 91/100\n",
            "361/361 [==============================] - 51s 140ms/step - loss: 1.2929 - accuracy: 0.7016 - val_loss: 1.2093 - val_accuracy: 0.7423\n",
            "Epoch 92/100\n",
            "361/361 [==============================] - 51s 141ms/step - loss: 1.2868 - accuracy: 0.7041 - val_loss: 1.1899 - val_accuracy: 0.7437\n",
            "Epoch 93/100\n",
            "361/361 [==============================] - 51s 140ms/step - loss: 1.2726 - accuracy: 0.7121 - val_loss: 1.1951 - val_accuracy: 0.7521\n",
            "Epoch 94/100\n",
            "361/361 [==============================] - 50s 139ms/step - loss: 1.2804 - accuracy: 0.7016 - val_loss: 1.2124 - val_accuracy: 0.7395\n",
            "Epoch 95/100\n",
            "361/361 [==============================] - 50s 139ms/step - loss: 1.2773 - accuracy: 0.7094 - val_loss: 1.2392 - val_accuracy: 0.7353\n",
            "Epoch 96/100\n",
            "361/361 [==============================] - 50s 140ms/step - loss: 1.2840 - accuracy: 0.7065 - val_loss: 1.2222 - val_accuracy: 0.7249\n",
            "Epoch 97/100\n",
            "361/361 [==============================] - 50s 138ms/step - loss: 1.2785 - accuracy: 0.7027 - val_loss: 1.1698 - val_accuracy: 0.7605\n",
            "Epoch 98/100\n",
            "361/361 [==============================] - 50s 139ms/step - loss: 1.2582 - accuracy: 0.7096 - val_loss: 1.1632 - val_accuracy: 0.7723\n",
            "Epoch 99/100\n",
            "361/361 [==============================] - 50s 138ms/step - loss: 1.2649 - accuracy: 0.7092 - val_loss: 1.1652 - val_accuracy: 0.7472\n",
            "Epoch 100/100\n",
            "361/361 [==============================] - 50s 139ms/step - loss: 1.2532 - accuracy: 0.7179 - val_loss: 1.1794 - val_accuracy: 0.7535\n"
          ],
          "name": "stdout"
        }
      ]
    },
    {
      "cell_type": "code",
      "metadata": {
        "id": "uw6hW5p_Lwji"
      },
      "source": [
        "test_datagen = ImageDataGenerator(rescale = 1./255)"
      ],
      "execution_count": null,
      "outputs": []
    },
    {
      "cell_type": "code",
      "metadata": {
        "colab": {
          "base_uri": "https://localhost:8080/"
        },
        "id": "_QfOy0KtL4p0",
        "outputId": "234e29f8-f992-469f-d33e-1ee4cb34e4e9"
      },
      "source": [
        "test_generator = test_datagen.flow_from_directory( directory = test_data_dir,\n",
        "                                                              target_size = (img_rows,img_cols),\n",
        "                                                              batch_size = 64,\n",
        "                                                              color_mode = \"grayscale\",\n",
        "                                                              class_mode = \"categorical\",\n",
        "                                                             )"
      ],
      "execution_count": null,
      "outputs": [
        {
          "output_type": "stream",
          "text": [
            "Found 7178 images belonging to 7 classes.\n"
          ],
          "name": "stdout"
        }
      ]
    },
    {
      "cell_type": "code",
      "metadata": {
        "id": "fLIcT9pRTHF9",
        "colab": {
          "base_uri": "https://localhost:8080/"
        },
        "outputId": "c1a21a87-26c1-47e4-a78f-d20c7dd7a946"
      },
      "source": [
        "model.evaluate(test_generator)"
      ],
      "execution_count": null,
      "outputs": [
        {
          "output_type": "stream",
          "text": [
            "113/113 [==============================] - 1542s 14s/step - loss: 1.1597 - accuracy: 0.7616\n"
          ],
          "name": "stdout"
        },
        {
          "output_type": "execute_result",
          "data": {
            "text/plain": [
              "[1.1596519947052002, 0.7616327404975891]"
            ]
          },
          "metadata": {
            "tags": []
          },
          "execution_count": 21
        }
      ]
    },
    {
      "cell_type": "code",
      "metadata": {
        "id": "zCtQtw87TJ2S",
        "colab": {
          "base_uri": "https://localhost:8080/",
          "height": 285
        },
        "outputId": "f2fea247-3cf7-47a6-e698-200a0aeca922"
      },
      "source": [
        "import cv2,matplotlib.pyplot as plt\n",
        "img=cv2.imread('/content/drive/MyDrive/test (1)/happy/im1717.png')\n",
        "plt.imshow(img)"
      ],
      "execution_count": null,
      "outputs": [
        {
          "output_type": "execute_result",
          "data": {
            "text/plain": [
              "<matplotlib.image.AxesImage at 0x7f5a808491d0>"
            ]
          },
          "metadata": {
            "tags": []
          },
          "execution_count": 79
        },
        {
          "output_type": "display_data",
          "data": {
            "image/png": "[encoded data removed]",
            "text/plain": [
              "<Figure size 432x288 with 1 Axes>"
            ]
          },
          "metadata": {
            "tags": [],
            "needs_background": "light"
          }
        }
      ]
    },
    {
      "cell_type": "code",
      "metadata": {
        "colab": {
          "base_uri": "https://localhost:8080/",
          "height": 285
        },
        "id": "ZXLWHC08-JSF",
        "outputId": "3267c8cb-b67f-4fe9-8cd5-1b20fb4a6670"
      },
      "source": [
        "rgb_weights = [0.2989, 0.5870, 0.1140]\n",
        "grayscale_image = np.dot(img[0:224,0:224,:3], rgb_weights)\n",
        "plt.imshow(grayscale_image, cmap=plt.get_cmap(\"gray\"))"
      ],
      "execution_count": null,
      "outputs": [
        {
          "output_type": "execute_result",
          "data": {
            "text/plain": [
              "<matplotlib.image.AxesImage at 0x7f5a80c72b90>"
            ]
          },
          "metadata": {
            "tags": []
          },
          "execution_count": 80
        },
        {
          "output_type": "display_data",
          "data": {
            "image/png": "[encoded data removed]",
            "text/plain": [
              "<Figure size 432x288 with 1 Axes>"
            ]
          },
          "metadata": {
            "tags": [],
            "needs_background": "light"
          }
        }
      ]
    },
    {
      "cell_type": "code",
      "metadata": {
        "colab": {
          "base_uri": "https://localhost:8080/"
        },
        "id": "7HInwpMO-ZfI",
        "outputId": "144e7d98-6544-493b-a17e-699ef1705e6a"
      },
      "source": [
        "print(img.shape)\n",
        "print(type(img))"
      ],
      "execution_count": null,
      "outputs": [
        {
          "output_type": "stream",
          "text": [
            "(48, 48, 3)\n",
            "<class 'numpy.ndarray'>\n"
          ],
          "name": "stdout"
        }
      ]
    },
    {
      "cell_type": "code",
      "metadata": {
        "colab": {
          "base_uri": "https://localhost:8080/"
        },
        "id": "Q76tJr-IP1Pj",
        "outputId": "9d720dc3-074a-4796-9490-88e47be51ab4"
      },
      "source": [
        "import cv2\n",
        "def resize_fn(fp: str) -> np.ndarray:\n",
        "    \"\"\" Resize an image maintaining its proportions\n",
        "    Args:\n",
        "        fp (str): Path argument to image file\n",
        "        scale (Union[float, int]): Percent as whole number of original image. eg. 53\n",
        "    Returns:\n",
        "        image (np.ndarray): Scaled image\n",
        "    \"\"\"    \n",
        "    _scale = lambda dim, s: int(dim * s / 100)\n",
        "    im: np.ndarray = cv2.imread(fp)\n",
        "    #plt.imshow(im)\n",
        "    width, height, channels = im.shape\n",
        "    scale_1=(48*100)/width\n",
        "    scale_2=(48*100)/height\n",
        "    print(\"{},{},{}\".format(width,height,channels))\n",
        "    new_width: int = _scale(width, scale_1)\n",
        "    new_height: int = _scale(height, scale_2)\n",
        "    new_dim: tuple = (new_width, new_height)\n",
        "    return cv2.resize(src=im, dsize=new_dim, interpolation=cv2.INTER_LINEAR)\n",
        "order=['angry','disgust','fear','happy','neutral','sad','surprised']\n",
        "resized = resize_fn('/content/drive/MyDrive/test (1)/happy/im1717.png')\n",
        "print(resized.shape)\n",
        "rgb_weights = [0.2989, 0.5870, 0.1140]\n",
        "grayscale_image = np.dot(resized[0:48,0:48,:3], rgb_weights)\n",
        "grayscale_image = grayscale_image.reshape((48,48,1))\n",
        "X = np.zeros((1,48, 48, 1), dtype=np.float32)\n",
        "X[0]=grayscale_image\n",
        "z=model.predict(X)\n",
        "t=[x for x in range(0,7) if z[0][x]==max(max(model.predict(X)))]\n",
        "print(\"Emotion of the person in the image is: {}\".format(order[t[0]]))"
      ],
      "execution_count": null,
      "outputs": [
        {
          "output_type": "stream",
          "text": [
            "48,48,3\n",
            "(48, 48, 3)\n",
            "Emotion of the person in the image is: happy\n"
          ],
          "name": "stdout"
        }
      ]
    },
    {
      "cell_type": "code",
      "metadata": {
        "id": "FVoQ6xmvTeqK",
        "colab": {
          "base_uri": "https://localhost:8080/"
        },
        "outputId": "ca89e1b9-460c-48ec-e715-85b301f44930"
      },
      "source": [
        "import pathlib\n",
        "for path in pathlib.Path('/content/drive/MyDrive/test (1)/happy').iterdir():\n",
        "  order=['angry','disgust','fear','happy','neutral','sad','surprised']\n",
        "  resized = resize_fn(str(path))\n",
        "  rgb_weights = [0.2989, 0.5870, 0.1140]\n",
        "  grayscale_image = np.dot(resized[0:48,0:48,:3], rgb_weights)\n",
        "  grayscale_image = grayscale_image.reshape((48,48,1))\n",
        "  X = np.zeros((1,48, 48, 1), dtype=np.float32)\n",
        "  X[0]=grayscale_image\n",
        "  z=model.predict(X)\n",
        "  t=[x for x in range(0,7) if z[0][x]==max(max(model.predict(X)))]\n",
        "  if order[t[0]]=='happy':\n",
        "    print(\"Emotion of the person in the image is: {}\".format(order[t[0]]))\n",
        "    print(path)\n",
        "    break"
      ],
      "execution_count": null,
      "outputs": [
        {
          "output_type": "stream",
          "text": [
            "48,48,3\n",
            "48,48,3\n",
            "48,48,3\n",
            "48,48,3\n",
            "48,48,3\n",
            "48,48,3\n",
            "48,48,3\n",
            "48,48,3\n",
            "48,48,3\n",
            "48,48,3\n",
            "48,48,3\n",
            "48,48,3\n",
            "48,48,3\n",
            "48,48,3\n",
            "Emotion of the person in the image is: happy\n",
            "/content/drive/MyDrive/test (1)/happy/im1717.png\n"
          ],
          "name": "stdout"
        }
      ]
    },
    {
      "cell_type": "markdown",
      "metadata": {
        "id": "86MGTceTVy-E"
      },
      "source": [
        "##TO GET THE APIs/FILE TO LINK A DATABASE OF SONGS TO THIS CODE TO DISPLAY THE TOP 5 SONGS FOR EACH OF THE 7 MOODS"
      ]
    }
  ]
}
{
  "nbformat": 4,
  "nbformat_minor": 0,
  "metadata": {
    "accelerator": "GPU",
    "colab": {
      "name": "AIprojFaceRecogCompleted.ipynb",
      "provenance": [],
      "collapsed_sections": [],
      "machine_shape": "hm"
    },
    "kernelspec": {
      "display_name": "Python 3",
      "name": "python3"
    },
    "language_info": {
      "name": "python"
    }
  },
  "cells": [
    {
      "cell_type": "code",
      "metadata": {
        "id": "PNMwXOr3CWjm"
      },
      "source": [
        "from __future__ import print_function\n",
        "import keras\n",
        "from keras.preprocessing.image import ImageDataGenerator\n",
        "from keras.models import Sequential\n",
        "from keras.layers import Dense,Dropout,Activation,Flatten,BatchNormalization\n",
        "from keras.layers import Conv2D,MaxPool2D\n",
        "import tensorflow as tf\n",
        "import os\n",
        "import random\n",
        "from keras import regularizers\n",
        "import numpy as np\n",
        "from tqdm import tqdm \n",
        "import nibabel as nib\n",
        "from skimage.io import imread, imshow\n",
        "from skimage.transform import resize\n",
        "import matplotlib.pyplot as plt\n",
        "from __future__ import print_function\n",
        "import keras\n",
        "from keras.preprocessing.image import ImageDataGenerator\n",
        "from keras.models import Sequential\n",
        "from keras.layers import Dense,Dropout,Activation,Flatten,BatchNormalization\n",
        "from keras.layers import Conv2D,MaxPooling2D\n",
        "from tensorflow.keras import layers"
      ],
      "execution_count": null,
      "outputs": []
    },
    {
      "cell_type": "code",
      "metadata": {
        "id": "LcKnoaQhJuji"
      },
      "source": [
        "num_classes = 7\n",
        "img_rows,img_cols = 48,48\n",
        "batch_size = 64"
      ],
      "execution_count": null,
      "outputs": []
    },
    {
      "cell_type": "code",
      "metadata": {
        "id": "mrEh8x4NmaeQ"
      },
      "source": [
        "train_data_dir = '/content/drive/MyDrive/train'\n",
        "validation_data_dir = '/content/drive/MyDrive/validation'\n",
        "test_data_dir = '/content/drive/MyDrive/test (1)'"
      ],
      "execution_count": null,
      "outputs": []
    },
    {
      "cell_type": "code",
      "metadata": {
        "id": "ExROJxPTqwIK"
      },
      "source": [
        "'''train_datagen = ImageDataGenerator(\n",
        "\t\t\t\t\thorizontal_flip=True,\n",
        "\t\t\t\t\tfill_mode='nearest')'''\n",
        "train_datagen = ImageDataGenerator(#rotation_range = 180,\n",
        "                                         width_shift_range = 0.1,\n",
        "                                         height_shift_range = 0.1,\n",
        "                                         horizontal_flip = True,\n",
        "                                         rescale = 1./255,\n",
        "                                         #zoom_range = 0.2,\n",
        "                                         validation_split = 0.2\n",
        "                                        )\n",
        "validation_datagen = ImageDataGenerator(rescale = 1./255,\n",
        "                                         validation_split = 0.2)"
      ],
      "execution_count": null,
      "outputs": []
    },
    {
      "cell_type": "code",
      "metadata": {
        "colab": {
          "base_uri": "https://localhost:8080/",
          "height": 35
        },
        "id": "FGXQyyveq1T5",
        "outputId": "30bcd907-7736-4a8f-99b6-6bec1222edfc"
      },
      "source": [
        "'''validation_datagen = ImageDataGenerator(rescale=1./255)'''"
      ],
      "execution_count": null,
      "outputs": [
        {
          "output_type": "execute_result",
          "data": {
            "application/vnd.google.colaboratory.intrinsic+json": {
              "type": "string"
            },
            "text/plain": [
              "'validation_datagen = ImageDataGenerator(rescale=1./255)'"
            ]
          },
          "metadata": {
            "tags": []
          },
          "execution_count": 5
        }
      ]
    },
    {
      "cell_type": "code",
      "metadata": {
        "colab": {
          "base_uri": "https://localhost:8080/"
        },
        "id": "snNSfOIuq3rm",
        "outputId": "1866066a-420e-4828-b1dd-66113b17ef29"
      },
      "source": [
        "'''train_generator = train_datagen.flow_from_directory(\n",
        "\t\t\t\t\ttrain_data_dir,\n",
        "\t\t\t\t\tcolor_mode='grayscale',\n",
        "\t\t\t\t\ttarget_size=(img_rows,img_cols),\n",
        "\t\t\t\t\tbatch_size=batch_size,\n",
        "\t\t\t\t\tclass_mode='categorical',\n",
        "\t\t\t\t\tshuffle=True,\n",
        "          subset='training')'''\n",
        "train_generator = train_datagen.flow_from_directory(directory = train_data_dir,\n",
        "                                                    target_size = (img_rows,img_cols),\n",
        "                                                    batch_size = 64,\n",
        "                                                    color_mode = \"grayscale\",\n",
        "                                                    class_mode = \"categorical\",\n",
        "                                                    subset = \"training\"\n",
        "                                                   )"
      ],
      "execution_count": null,
      "outputs": [
        {
          "output_type": "stream",
          "text": [
            "Found 23063 images belonging to 7 classes.\n"
          ],
          "name": "stdout"
        }
      ]
    },
    {
      "cell_type": "code",
      "metadata": {
        "colab": {
          "base_uri": "https://localhost:8080/"
        },
        "id": "9oV-UCEAq5qX",
        "outputId": "2efe1ee7-bef4-4096-9548-cb243f11ff1d"
      },
      "source": [
        "'''validation_generator = validation_datagen.flow_from_directory(\n",
        "\t\t\t\t\t\t\tvalidation_data_dir,\n",
        "\t\t\t\t\t\t\tcolor_mode='grayscale',\n",
        "\t\t\t\t\t\t\ttarget_size=(img_rows,img_cols),\n",
        "\t\t\t\t\t\t\tbatch_size=batch_size,\n",
        "\t\t\t\t\t\t\tclass_mode='categorical',\n",
        "\t\t\t\t\t\t\tshuffle=True)'''\n",
        "validation_generator = validation_datagen.flow_from_directory( directory = test_data_dir,\n",
        "                                                              target_size = (img_rows,img_cols),\n",
        "                                                              batch_size = 64,\n",
        "                                                              color_mode = \"grayscale\",\n",
        "                                                              class_mode = \"categorical\",\n",
        "                                                              subset = \"validation\"\n",
        "                                                             )"
      ],
      "execution_count": null,
      "outputs": [
        {
          "output_type": "stream",
          "text": [
            "Found 1432 images belonging to 7 classes.\n"
          ],
          "name": "stdout"
        }
      ]
    },
    {
      "cell_type": "code",
      "metadata": {
        "colab": {
          "base_uri": "https://localhost:8080/"
        },
        "id": "wABs-BuVMX5j",
        "outputId": "0906fab5-c94e-45b8-c200-2eaaafb75f24"
      },
      "source": [
        "from keras.optimizers import RMSprop,SGD,Adam\n",
        "from __future__ import print_function\n",
        "import keras\n",
        "from keras.preprocessing.image import ImageDataGenerator\n",
        "from keras.models import Sequential\n",
        "from keras.layers import Dense,Dropout,Activation,Flatten,BatchNormalization\n",
        "from keras.layers import Conv2D,MaxPooling2D\n",
        "from tensorflow.keras import layers\n",
        "model = Sequential()\n",
        "model.add(Conv2D(32, kernel_size=(3, 3), padding='same', activation='relu', input_shape=(48, 48,1)))\n",
        "model.add(Conv2D(64,(3,3), padding='same', activation='relu' ))\n",
        "model.add(BatchNormalization())\n",
        "model.add(MaxPool2D(pool_size=(2, 2)))\n",
        "model.add(Dropout(0.25))\n",
        "\n",
        "model.add(Conv2D(128,(5,5), padding='same', activation='relu'))\n",
        "model.add(BatchNormalization())\n",
        "model.add(MaxPool2D(pool_size=(2, 2)))\n",
        "model.add(Dropout(0.25))\n",
        "    \n",
        "model.add(Conv2D(512,(3,3), padding='same', activation='relu', kernel_regularizer=regularizers.l2(0.01)))\n",
        "model.add(BatchNormalization())\n",
        "model.add(MaxPool2D(pool_size=(2, 2)))\n",
        "model.add(Dropout(0.25))\n",
        "\n",
        "model.add(Conv2D(512,(3,3), padding='same', activation='relu', kernel_regularizer=regularizers.l2(0.01)))\n",
        "model.add(BatchNormalization())\n",
        "model.add(MaxPool2D(pool_size=(2, 2)))\n",
        "model.add(Dropout(0.25))\n",
        "\n",
        "model.add(Flatten()) \n",
        "model.add(Dense(256,activation = 'relu'))\n",
        "model.add(BatchNormalization())\n",
        "model.add(Dropout(0.25))\n",
        "    \n",
        "model.add(Dense(512,activation = 'relu'))\n",
        "model.add(BatchNormalization())\n",
        "model.add(Dropout(0.25))\n",
        "\n",
        "model.add(Dense(7, activation='softmax'))\n",
        "model.compile(\n",
        "    optimizer = Adam(lr=0.0001), \n",
        "    loss='categorical_crossentropy', \n",
        "    metrics=['accuracy']\n",
        "  )\n",
        "model.summary()"
      ],
      "execution_count": null,
      "outputs": [
        {
          "output_type": "stream",
          "text": [
            "Model: \"sequential\"\n",
            "_________________________________________________________________\n",
            "Layer (type)                 Output Shape              Param #   \n",
            "=================================================================\n",
            "conv2d (Conv2D)              (None, 48, 48, 32)        320       \n",
            "_________________________________________________________________\n",
            "conv2d_1 (Conv2D)            (None, 48, 48, 64)        18496     \n",
            "_________________________________________________________________\n",
            "batch_normalization (BatchNo (None, 48, 48, 64)        256       \n",
            "_________________________________________________________________\n",
            "max_pooling2d (MaxPooling2D) (None, 24, 24, 64)        0         \n",
            "_________________________________________________________________\n",
            "dropout (Dropout)            (None, 24, 24, 64)        0         \n",
            "_________________________________________________________________\n",
            "conv2d_2 (Conv2D)            (None, 24, 24, 128)       204928    \n",
            "_________________________________________________________________\n",
            "batch_normalization_1 (Batch (None, 24, 24, 128)       512       \n",
            "_________________________________________________________________\n",
            "max_pooling2d_1 (MaxPooling2 (None, 12, 12, 128)       0         \n",
            "_________________________________________________________________\n",
            "dropout_1 (Dropout)          (None, 12, 12, 128)       0         \n",
            "_________________________________________________________________\n",
            "conv2d_3 (Conv2D)            (None, 12, 12, 512)       590336    \n",
            "_________________________________________________________________\n",
            "batch_normalization_2 (Batch (None, 12, 12, 512)       2048      \n",
            "_________________________________________________________________\n",
            "max_pooling2d_2 (MaxPooling2 (None, 6, 6, 512)         0         \n",
            "_________________________________________________________________\n",
            "dropout_2 (Dropout)          (None, 6, 6, 512)         0         \n",
            "_________________________________________________________________\n",
            "conv2d_4 (Conv2D)            (None, 6, 6, 512)         2359808   \n",
            "_________________________________________________________________\n",
            "batch_normalization_3 (Batch (None, 6, 6, 512)         2048      \n",
            "_________________________________________________________________\n",
            "max_pooling2d_3 (MaxPooling2 (None, 3, 3, 512)         0         \n",
            "_________________________________________________________________\n",
            "dropout_3 (Dropout)          (None, 3, 3, 512)         0         \n",
            "_________________________________________________________________\n",
            "flatten (Flatten)            (None, 4608)              0         \n",
            "_________________________________________________________________\n",
            "dense (Dense)                (None, 256)               1179904   \n",
            "_________________________________________________________________\n",
            "batch_normalization_4 (Batch (None, 256)               1024      \n",
            "_________________________________________________________________\n",
            "dropout_4 (Dropout)          (None, 256)               0         \n",
            "_________________________________________________________________\n",
            "dense_1 (Dense)              (None, 512)               131584    \n",
            "_________________________________________________________________\n",
            "batch_normalization_5 (Batch (None, 512)               2048      \n",
            "_________________________________________________________________\n",
            "dropout_5 (Dropout)          (None, 512)               0         \n",
            "_________________________________________________________________\n",
            "dense_2 (Dense)              (None, 7)                 3591      \n",
            "=================================================================\n",
            "Total params: 4,496,903\n",
            "Trainable params: 4,492,935\n",
            "Non-trainable params: 3,968\n",
            "_________________________________________________________________\n"
          ],
          "name": "stdout"
        },
        {
          "output_type": "stream",
          "text": [
            "/usr/local/lib/python3.7/dist-packages/tensorflow/python/keras/optimizer_v2/optimizer_v2.py:375: UserWarning: The `lr` argument is deprecated, use `learning_rate` instead.\n",
            "  \"The `lr` argument is deprecated, use `learning_rate` instead.\")\n"
          ],
          "name": "stderr"
        }
      ]
    },
    {
      "cell_type": "code",
      "metadata": {
        "colab": {
          "base_uri": "https://localhost:8080/",
          "height": 139
        },
        "id": "KFSgdNL0MC3Q",
        "outputId": "685c0ac4-db09-4316-81d3-554955de1250"
      },
      "source": [
        "'''from __future__ import print_function\n",
        "import keras\n",
        "from keras.preprocessing.image import ImageDataGenerator\n",
        "from keras.models import Sequential\n",
        "from keras.layers import Dense,Dropout,Activation,Flatten,BatchNormalization\n",
        "from keras.layers import Conv2D,MaxPooling2D\n",
        "from tensorflow.keras import layers\n",
        "model = keras.Sequential()\n",
        "\n",
        "model.add(layers.Conv2D(filters=6, kernel_size=(3, 3), activation='relu', input_shape=(32,32,1)))\n",
        "model.add(layers.AveragePooling2D())\n",
        "\n",
        "model.add(layers.Conv2D(filters=16, kernel_size=(3, 3), activation='relu'))\n",
        "model.add(layers.AveragePooling2D())\n",
        "\n",
        "model.add(layers.Flatten())\n",
        "\n",
        "model.add(layers.Dense(units=120, activation='relu'))\n",
        "\n",
        "model.add(layers.Dense(units=84, activation='relu'))\n",
        "model.add(layers.Dense(num_classes, activation = 'softmax'))\n",
        "model.add(Flatten())\n",
        "model.add(Dense(units=4096,activation=\"relu\"))\n",
        "model.add(Dense(units=4096,activation=\"relu\"))\n",
        "model.add(Dense(units=7, activation=\"sigmoid\"))\n",
        "model.summary()'''"
      ],
      "execution_count": null,
      "outputs": [
        {
          "output_type": "execute_result",
          "data": {
            "application/vnd.google.colaboratory.intrinsic+json": {
              "type": "string"
            },
            "text/plain": [
              "'from __future__ import print_function\\nimport keras\\nfrom keras.preprocessing.image import ImageDataGenerator\\nfrom keras.models import Sequential\\nfrom keras.layers import Dense,Dropout,Activation,Flatten,BatchNormalization\\nfrom keras.layers import Conv2D,MaxPooling2D\\nfrom tensorflow.keras import layers\\nmodel = keras.Sequential()\\n\\nmodel.add(layers.Conv2D(filters=6, kernel_size=(3, 3), activation=\\'relu\\', input_shape=(32,32,1)))\\nmodel.add(layers.AveragePooling2D())\\n\\nmodel.add(layers.Conv2D(filters=16, kernel_size=(3, 3), activation=\\'relu\\'))\\nmodel.add(layers.AveragePooling2D())\\n\\nmodel.add(layers.Flatten())\\n\\nmodel.add(layers.Dense(units=120, activation=\\'relu\\'))\\n\\nmodel.add(layers.Dense(units=84, activation=\\'relu\\'))\\nmodel.add(layers.Dense(num_classes, activation = \\'softmax\\'))\\nmodel.add(Flatten())\\nmodel.add(Dense(units=4096,activation=\"relu\"))\\nmodel.add(Dense(units=4096,activation=\"relu\"))\\nmodel.add(Dense(units=7, activation=\"sigmoid\"))\\nmodel.summary()'"
            ]
          },
          "metadata": {
            "tags": []
          },
          "execution_count": 9
        }
      ]
    },
    {
      "cell_type": "code",
      "metadata": {
        "id": "JzNrRPg3rhDr"
      },
      "source": [
        "from keras.optimizers import RMSprop,SGD,Adam\n",
        "from keras.callbacks import ModelCheckpoint, EarlyStopping, ReduceLROnPlateau"
      ],
      "execution_count": null,
      "outputs": []
    },
    {
      "cell_type": "code",
      "metadata": {
        "id": "E1S_-1Ggrlnt"
      },
      "source": [
        "checkpoint = ModelCheckpoint('Emotion_weights.h5',\n",
        "                             monitor='val_loss',\n",
        "                             mode='min',\n",
        "                             save_best_only=True,\n",
        "                             verbose=1)"
      ],
      "execution_count": null,
      "outputs": []
    },
    {
      "cell_type": "code",
      "metadata": {
        "colab": {
          "base_uri": "https://localhost:8080/",
          "height": 53
        },
        "id": "G0-O-Akyst7o",
        "outputId": "e96496b6-c387-4dc5-9ae2-4668eacdf332"
      },
      "source": [
        "'''earlystop = EarlyStopping(monitor='val_loss',\n",
        "                          min_delta=0,\n",
        "                          patience=3,\n",
        "                          verbose=1,\n",
        "                          restore_best_weights=True\n",
        "                          )'''"
      ],
      "execution_count": null,
      "outputs": [
        {
          "output_type": "execute_result",
          "data": {
            "application/vnd.google.colaboratory.intrinsic+json": {
              "type": "string"
            },
            "text/plain": [
              "\"earlystop = EarlyStopping(monitor='val_loss',\\n                          min_delta=0,\\n                          patience=3,\\n                          verbose=1,\\n                          restore_best_weights=True\\n                          )\""
            ]
          },
          "metadata": {
            "tags": []
          },
          "execution_count": 12
        }
      ]
    },
    {
      "cell_type": "code",
      "metadata": {
        "colab": {
          "base_uri": "https://localhost:8080/",
          "height": 53
        },
        "id": "_tT6K9crsxI7",
        "outputId": "026aeb70-c0dc-4b32-bdc6-5f9e2b5296eb"
      },
      "source": [
        "'''reduce_lr = ReduceLROnPlateau(monitor='val_loss',\n",
        "                              factor=0.2,\n",
        "                              patience=3,\n",
        "                              verbose=1,\n",
        "                              min_delta=0.0001)'''"
      ],
      "execution_count": null,
      "outputs": [
        {
          "output_type": "execute_result",
          "data": {
            "application/vnd.google.colaboratory.intrinsic+json": {
              "type": "string"
            },
            "text/plain": [
              "\"reduce_lr = ReduceLROnPlateau(monitor='val_loss',\\n                              factor=0.2,\\n                              patience=3,\\n                              verbose=1,\\n                              min_delta=0.0001)\""
            ]
          },
          "metadata": {
            "tags": []
          },
          "execution_count": 13
        }
      ]
    },
    {
      "cell_type": "code",
      "metadata": {
        "id": "K2OtDgmoszBm"
      },
      "source": [
        "'''callbacks = [earlystop,checkpoint,reduce_lr]'''\n",
        "callbacks = [checkpoint]"
      ],
      "execution_count": null,
      "outputs": []
    },
    {
      "cell_type": "code",
      "metadata": {
        "colab": {
          "base_uri": "https://localhost:8080/",
          "height": 35
        },
        "id": "6RZKmLkUs1Tj",
        "outputId": "be922047-ed13-4770-82fc-00bd57ddd215"
      },
      "source": [
        "'''model.compile(loss='categorical_crossentropy',\n",
        "              optimizer = Adam(lr=0.001),\n",
        "              metrics=['accuracy'])'''"
      ],
      "execution_count": null,
      "outputs": [
        {
          "output_type": "execute_result",
          "data": {
            "application/vnd.google.colaboratory.intrinsic+json": {
              "type": "string"
            },
            "text/plain": [
              "\"model.compile(loss='categorical_crossentropy',\\n              optimizer = Adam(lr=0.001),\\n              metrics=['accuracy'])\""
            ]
          },
          "metadata": {
            "tags": []
          },
          "execution_count": 14
        }
      ]
    },
    {
      "cell_type": "code",
      "metadata": {
        "id": "DZwdTtrjs3NU"
      },
      "source": [
        "epochs=100"
      ],
      "execution_count": null,
      "outputs": []
    },
    {
      "cell_type": "code",
      "metadata": {
        "colab": {
          "base_uri": "https://localhost:8080/"
        },
        "id": "CGXXuuHes498",
        "outputId": "0e5d36f6-c80c-43b0-da11-7e385cd7dcd2"
      },
      "source": [
        "history = model.fit(x=train_generator,epochs = epochs,validation_data = validation_generator)"
      ],
      "execution_count": null,
      "outputs": [
        {
          "output_type": "stream",
          "text": [
            "Epoch 1/100\n",
            "361/361 [==============================] - 15183s 42s/step - loss: 9.6182 - accuracy: 0.1708 - val_loss: 8.9161 - val_accuracy: 0.1885\n",
            "Epoch 2/100\n",
            "361/361 [==============================] - 30s 82ms/step - loss: 8.4812 - accuracy: 0.2201 - val_loss: 7.4472 - val_accuracy: 0.2919\n",
            "Epoch 3/100\n",
            "361/361 [==============================] - 29s 81ms/step - loss: 7.4377 - accuracy: 0.2504 - val_loss: 6.4319 - val_accuracy: 0.3359\n",
            "Epoch 4/100\n",
            "361/361 [==============================] - 29s 81ms/step - loss: 6.4421 - accuracy: 0.2787 - val_loss: 5.6256 - val_accuracy: 0.3219\n",
            "Epoch 5/100\n",
            "361/361 [==============================] - 30s 83ms/step - loss: 5.5089 - accuracy: 0.3096 - val_loss: 4.8825 - val_accuracy: 0.3582\n",
            "Epoch 6/100\n",
            "361/361 [==============================] - 29s 81ms/step - loss: 4.7276 - accuracy: 0.3424 - val_loss: 4.0518 - val_accuracy: 0.4316\n",
            "Epoch 7/100\n",
            "361/361 [==============================] - 29s 81ms/step - loss: 4.0803 - accuracy: 0.3636 - val_loss: 3.4975 - val_accuracy: 0.4539\n",
            "Epoch 8/100\n",
            "361/361 [==============================] - 29s 81ms/step - loss: 3.5297 - accuracy: 0.3890 - val_loss: 3.0541 - val_accuracy: 0.4742\n",
            "Epoch 9/100\n",
            "361/361 [==============================] - 29s 81ms/step - loss: 3.1219 - accuracy: 0.4123 - val_loss: 2.6637 - val_accuracy: 0.4923\n",
            "Epoch 10/100\n",
            "361/361 [==============================] - 29s 82ms/step - loss: 2.7781 - accuracy: 0.4321 - val_loss: 2.4748 - val_accuracy: 0.4797\n",
            "Epoch 11/100\n",
            "361/361 [==============================] - 29s 81ms/step - loss: 2.4980 - accuracy: 0.4501 - val_loss: 2.3692 - val_accuracy: 0.4839\n",
            "Epoch 12/100\n",
            "361/361 [==============================] - 29s 82ms/step - loss: 2.2962 - accuracy: 0.4747 - val_loss: 1.9914 - val_accuracy: 0.5475\n",
            "Epoch 13/100\n",
            "361/361 [==============================] - 29s 81ms/step - loss: 2.1266 - accuracy: 0.4889 - val_loss: 1.9444 - val_accuracy: 0.5545\n",
            "Epoch 14/100\n",
            "361/361 [==============================] - 29s 81ms/step - loss: 2.0046 - accuracy: 0.4979 - val_loss: 1.8224 - val_accuracy: 0.5356\n",
            "Epoch 15/100\n",
            "361/361 [==============================] - 30s 82ms/step - loss: 1.8754 - accuracy: 0.5150 - val_loss: 1.6921 - val_accuracy: 0.5733\n",
            "Epoch 16/100\n",
            "361/361 [==============================] - 30s 82ms/step - loss: 1.7975 - accuracy: 0.5253 - val_loss: 1.6347 - val_accuracy: 0.5817\n",
            "Epoch 17/100\n",
            "361/361 [==============================] - 29s 81ms/step - loss: 1.7092 - accuracy: 0.5394 - val_loss: 1.5362 - val_accuracy: 0.6006\n",
            "Epoch 18/100\n",
            "361/361 [==============================] - 29s 81ms/step - loss: 1.6731 - accuracy: 0.5458 - val_loss: 1.5482 - val_accuracy: 0.5901\n",
            "Epoch 19/100\n",
            "361/361 [==============================] - 29s 81ms/step - loss: 1.6271 - accuracy: 0.5550 - val_loss: 1.4767 - val_accuracy: 0.6054\n",
            "Epoch 20/100\n",
            "361/361 [==============================] - 29s 81ms/step - loss: 1.5830 - accuracy: 0.5601 - val_loss: 1.4456 - val_accuracy: 0.6096\n",
            "Epoch 21/100\n",
            "361/361 [==============================] - 29s 81ms/step - loss: 1.5477 - accuracy: 0.5680 - val_loss: 1.5325 - val_accuracy: 0.5817\n",
            "Epoch 22/100\n",
            "361/361 [==============================] - 29s 81ms/step - loss: 1.5304 - accuracy: 0.5680 - val_loss: 1.3843 - val_accuracy: 0.6320\n",
            "Epoch 23/100\n",
            "361/361 [==============================] - 30s 82ms/step - loss: 1.5026 - accuracy: 0.5738 - val_loss: 1.3994 - val_accuracy: 0.6215\n",
            "Epoch 24/100\n",
            "361/361 [==============================] - 29s 82ms/step - loss: 1.4827 - accuracy: 0.5871 - val_loss: 1.5111 - val_accuracy: 0.5964\n",
            "Epoch 25/100\n",
            "361/361 [==============================] - 29s 81ms/step - loss: 1.4663 - accuracy: 0.5925 - val_loss: 1.3231 - val_accuracy: 0.6501\n",
            "Epoch 26/100\n",
            "361/361 [==============================] - 30s 83ms/step - loss: 1.4609 - accuracy: 0.5983 - val_loss: 1.3358 - val_accuracy: 0.6494\n",
            "Epoch 27/100\n",
            "361/361 [==============================] - 29s 81ms/step - loss: 1.4388 - accuracy: 0.6033 - val_loss: 1.4282 - val_accuracy: 0.6243\n",
            "Epoch 28/100\n",
            "361/361 [==============================] - 29s 81ms/step - loss: 1.4348 - accuracy: 0.6055 - val_loss: 1.4224 - val_accuracy: 0.6096\n",
            "Epoch 29/100\n",
            "361/361 [==============================] - 30s 82ms/step - loss: 1.4153 - accuracy: 0.6068 - val_loss: 1.2966 - val_accuracy: 0.6669\n",
            "Epoch 30/100\n",
            "361/361 [==============================] - 29s 80ms/step - loss: 1.4156 - accuracy: 0.6108 - val_loss: 1.2799 - val_accuracy: 0.6746\n",
            "Epoch 31/100\n",
            "361/361 [==============================] - 29s 81ms/step - loss: 1.4123 - accuracy: 0.6174 - val_loss: 1.3289 - val_accuracy: 0.6522\n",
            "Epoch 32/100\n",
            "361/361 [==============================] - 29s 81ms/step - loss: 1.4013 - accuracy: 0.6201 - val_loss: 1.2730 - val_accuracy: 0.6746\n",
            "Epoch 33/100\n",
            "361/361 [==============================] - 29s 81ms/step - loss: 1.3814 - accuracy: 0.6247 - val_loss: 1.3294 - val_accuracy: 0.6494\n",
            "Epoch 34/100\n",
            "361/361 [==============================] - 29s 81ms/step - loss: 1.3816 - accuracy: 0.6238 - val_loss: 1.3048 - val_accuracy: 0.6655\n",
            "Epoch 35/100\n",
            "361/361 [==============================] - 29s 81ms/step - loss: 1.3773 - accuracy: 0.6299 - val_loss: 1.3220 - val_accuracy: 0.6522\n",
            "Epoch 36/100\n",
            "361/361 [==============================] - 29s 81ms/step - loss: 1.3649 - accuracy: 0.6318 - val_loss: 1.3289 - val_accuracy: 0.6564\n",
            "Epoch 37/100\n",
            "361/361 [==============================] - 30s 83ms/step - loss: 1.3704 - accuracy: 0.6266 - val_loss: 1.2639 - val_accuracy: 0.6788\n",
            "Epoch 38/100\n",
            "361/361 [==============================] - 29s 81ms/step - loss: 1.3716 - accuracy: 0.6309 - val_loss: 1.2849 - val_accuracy: 0.6711\n",
            "Epoch 39/100\n",
            "361/361 [==============================] - 29s 81ms/step - loss: 1.3579 - accuracy: 0.6373 - val_loss: 1.2801 - val_accuracy: 0.6718\n",
            "Epoch 40/100\n",
            "361/361 [==============================] - 29s 81ms/step - loss: 1.3644 - accuracy: 0.6377 - val_loss: 1.2294 - val_accuracy: 0.6920\n",
            "Epoch 41/100\n",
            "361/361 [==============================] - 29s 81ms/step - loss: 1.3288 - accuracy: 0.6504 - val_loss: 1.2522 - val_accuracy: 0.6885\n",
            "Epoch 42/100\n",
            "361/361 [==============================] - 29s 81ms/step - loss: 1.3421 - accuracy: 0.6440 - val_loss: 1.2749 - val_accuracy: 0.6795\n",
            "Epoch 43/100\n",
            "361/361 [==============================] - 30s 82ms/step - loss: 1.3596 - accuracy: 0.6374 - val_loss: 1.2659 - val_accuracy: 0.6816\n",
            "Epoch 44/100\n",
            "361/361 [==============================] - 30s 82ms/step - loss: 1.3469 - accuracy: 0.6448 - val_loss: 1.2520 - val_accuracy: 0.6997\n",
            "Epoch 45/100\n",
            "361/361 [==============================] - 29s 81ms/step - loss: 1.3376 - accuracy: 0.6522 - val_loss: 1.2404 - val_accuracy: 0.6976\n",
            "Epoch 46/100\n",
            "361/361 [==============================] - 29s 81ms/step - loss: 1.3326 - accuracy: 0.6511 - val_loss: 1.2275 - val_accuracy: 0.7025\n",
            "Epoch 47/100\n",
            "361/361 [==============================] - 30s 83ms/step - loss: 1.3372 - accuracy: 0.6497 - val_loss: 1.2807 - val_accuracy: 0.6927\n",
            "Epoch 48/100\n",
            "361/361 [==============================] - 29s 81ms/step - loss: 1.3317 - accuracy: 0.6547 - val_loss: 1.2282 - val_accuracy: 0.7067\n",
            "Epoch 49/100\n",
            "361/361 [==============================] - 29s 81ms/step - loss: 1.3264 - accuracy: 0.6584 - val_loss: 1.1926 - val_accuracy: 0.7039\n",
            "Epoch 50/100\n",
            "361/361 [==============================] - 29s 80ms/step - loss: 1.3079 - accuracy: 0.6645 - val_loss: 1.2483 - val_accuracy: 0.7004\n",
            "Epoch 51/100\n",
            "361/361 [==============================] - 30s 82ms/step - loss: 1.3368 - accuracy: 0.6556 - val_loss: 1.2910 - val_accuracy: 0.6906\n",
            "Epoch 52/100\n",
            "361/361 [==============================] - 29s 81ms/step - loss: 1.3306 - accuracy: 0.6632 - val_loss: 1.2763 - val_accuracy: 0.6941\n",
            "Epoch 53/100\n",
            "361/361 [==============================] - 29s 81ms/step - loss: 1.3196 - accuracy: 0.6664 - val_loss: 1.2622 - val_accuracy: 0.7095\n",
            "Epoch 54/100\n",
            "361/361 [==============================] - 29s 81ms/step - loss: 1.3358 - accuracy: 0.6629 - val_loss: 1.2741 - val_accuracy: 0.6948\n",
            "Epoch 55/100\n",
            "361/361 [==============================] - 29s 80ms/step - loss: 1.3296 - accuracy: 0.6628 - val_loss: 1.2255 - val_accuracy: 0.7144\n",
            "Epoch 56/100\n",
            "361/361 [==============================] - 29s 81ms/step - loss: 1.3337 - accuracy: 0.6642 - val_loss: 1.1781 - val_accuracy: 0.7353\n",
            "Epoch 57/100\n",
            "361/361 [==============================] - 29s 81ms/step - loss: 1.3302 - accuracy: 0.6634 - val_loss: 1.2450 - val_accuracy: 0.7039\n",
            "Epoch 58/100\n",
            "361/361 [==============================] - 30s 83ms/step - loss: 1.3117 - accuracy: 0.6710 - val_loss: 1.2401 - val_accuracy: 0.7060\n",
            "Epoch 59/100\n",
            "361/361 [==============================] - 29s 81ms/step - loss: 1.3243 - accuracy: 0.6692 - val_loss: 1.2308 - val_accuracy: 0.7165\n",
            "Epoch 60/100\n",
            "361/361 [==============================] - 29s 81ms/step - loss: 1.3045 - accuracy: 0.6789 - val_loss: 1.2275 - val_accuracy: 0.7151\n",
            "Epoch 61/100\n",
            "361/361 [==============================] - 29s 81ms/step - loss: 1.3005 - accuracy: 0.6810 - val_loss: 1.2168 - val_accuracy: 0.7123\n",
            "Epoch 62/100\n",
            "361/361 [==============================] - 29s 81ms/step - loss: 1.3178 - accuracy: 0.6766 - val_loss: 1.2225 - val_accuracy: 0.7242\n",
            "Epoch 63/100\n",
            "361/361 [==============================] - 29s 81ms/step - loss: 1.3141 - accuracy: 0.6748 - val_loss: 1.2357 - val_accuracy: 0.7193\n",
            "Epoch 64/100\n",
            "361/361 [==============================] - 29s 81ms/step - loss: 1.3101 - accuracy: 0.6752 - val_loss: 1.2248 - val_accuracy: 0.7235\n",
            "Epoch 65/100\n",
            "361/361 [==============================] - 30s 82ms/step - loss: 1.3056 - accuracy: 0.6832 - val_loss: 1.2210 - val_accuracy: 0.7221\n",
            "Epoch 66/100\n",
            "361/361 [==============================] - 29s 81ms/step - loss: 1.3160 - accuracy: 0.6781 - val_loss: 1.2387 - val_accuracy: 0.7263\n",
            "Epoch 67/100\n",
            "361/361 [==============================] - 29s 81ms/step - loss: 1.3139 - accuracy: 0.6848 - val_loss: 1.2432 - val_accuracy: 0.7235\n",
            "Epoch 68/100\n",
            "361/361 [==============================] - 30s 82ms/step - loss: 1.3130 - accuracy: 0.6857 - val_loss: 1.2357 - val_accuracy: 0.7270\n",
            "Epoch 69/100\n",
            "361/361 [==============================] - 29s 81ms/step - loss: 1.2965 - accuracy: 0.6911 - val_loss: 1.2230 - val_accuracy: 0.7214\n",
            "Epoch 70/100\n",
            "361/361 [==============================] - 29s 81ms/step - loss: 1.3025 - accuracy: 0.6876 - val_loss: 1.1973 - val_accuracy: 0.7423\n",
            "Epoch 71/100\n",
            "361/361 [==============================] - 30s 83ms/step - loss: 1.2843 - accuracy: 0.6960 - val_loss: 1.2278 - val_accuracy: 0.7277\n",
            "Epoch 72/100\n",
            "361/361 [==============================] - 29s 81ms/step - loss: 1.2893 - accuracy: 0.6869 - val_loss: 1.2059 - val_accuracy: 0.7339\n",
            "Epoch 73/100\n",
            "361/361 [==============================] - 29s 81ms/step - loss: 1.2844 - accuracy: 0.6900 - val_loss: 1.2207 - val_accuracy: 0.7256\n",
            "Epoch 74/100\n",
            "361/361 [==============================] - 29s 80ms/step - loss: 1.2945 - accuracy: 0.6915 - val_loss: 1.2156 - val_accuracy: 0.7235\n",
            "Epoch 75/100\n",
            "361/361 [==============================] - 29s 81ms/step - loss: 1.2833 - accuracy: 0.6924 - val_loss: 1.2259 - val_accuracy: 0.7311\n",
            "Epoch 76/100\n",
            "361/361 [==============================] - 29s 81ms/step - loss: 1.2935 - accuracy: 0.6927 - val_loss: 1.2002 - val_accuracy: 0.7458\n",
            "Epoch 77/100\n",
            "361/361 [==============================] - 29s 81ms/step - loss: 1.2849 - accuracy: 0.6977 - val_loss: 1.2188 - val_accuracy: 0.7332\n",
            "Epoch 78/100\n",
            "361/361 [==============================] - 29s 81ms/step - loss: 1.2897 - accuracy: 0.6959 - val_loss: 1.2082 - val_accuracy: 0.7374\n",
            "Epoch 79/100\n",
            "361/361 [==============================] - 30s 83ms/step - loss: 1.2931 - accuracy: 0.6943 - val_loss: 1.2695 - val_accuracy: 0.7214\n",
            "Epoch 80/100\n",
            "361/361 [==============================] - 29s 80ms/step - loss: 1.2927 - accuracy: 0.7011 - val_loss: 1.2052 - val_accuracy: 0.7346\n",
            "Epoch 81/100\n",
            "361/361 [==============================] - 29s 81ms/step - loss: 1.3051 - accuracy: 0.6951 - val_loss: 1.2042 - val_accuracy: 0.7437\n",
            "Epoch 82/100\n",
            "361/361 [==============================] - 30s 82ms/step - loss: 1.2900 - accuracy: 0.6975 - val_loss: 1.2172 - val_accuracy: 0.7416\n",
            "Epoch 83/100\n",
            "361/361 [==============================] - 29s 81ms/step - loss: 1.2871 - accuracy: 0.6958 - val_loss: 1.2212 - val_accuracy: 0.7235\n",
            "Epoch 84/100\n",
            "361/361 [==============================] - 30s 82ms/step - loss: 1.2860 - accuracy: 0.7001 - val_loss: 1.2389 - val_accuracy: 0.7284\n",
            "Epoch 85/100\n",
            "361/361 [==============================] - 29s 80ms/step - loss: 1.2858 - accuracy: 0.7010 - val_loss: 1.1855 - val_accuracy: 0.7402\n",
            "Epoch 86/100\n",
            "361/361 [==============================] - 29s 81ms/step - loss: 1.2796 - accuracy: 0.6992 - val_loss: 1.2339 - val_accuracy: 0.7186\n",
            "Epoch 87/100\n",
            "361/361 [==============================] - 29s 81ms/step - loss: 1.2849 - accuracy: 0.6988 - val_loss: 1.1904 - val_accuracy: 0.7479\n",
            "Epoch 88/100\n",
            "361/361 [==============================] - 29s 81ms/step - loss: 1.2602 - accuracy: 0.7085 - val_loss: 1.2547 - val_accuracy: 0.7297\n",
            "Epoch 89/100\n",
            "361/361 [==============================] - 30s 82ms/step - loss: 1.2788 - accuracy: 0.7024 - val_loss: 1.1937 - val_accuracy: 0.7430\n",
            "Epoch 90/100\n",
            "361/361 [==============================] - 30s 82ms/step - loss: 1.2720 - accuracy: 0.7039 - val_loss: 1.1798 - val_accuracy: 0.7528\n",
            "Epoch 91/100\n",
            "361/361 [==============================] - 29s 81ms/step - loss: 1.2755 - accuracy: 0.7051 - val_loss: 1.2014 - val_accuracy: 0.7514\n",
            "Epoch 92/100\n",
            "361/361 [==============================] - 29s 81ms/step - loss: 1.2693 - accuracy: 0.7070 - val_loss: 1.2099 - val_accuracy: 0.7451\n",
            "Epoch 93/100\n",
            "361/361 [==============================] - 29s 81ms/step - loss: 1.2784 - accuracy: 0.7038 - val_loss: 1.2207 - val_accuracy: 0.7521\n",
            "Epoch 94/100\n",
            "361/361 [==============================] - 29s 81ms/step - loss: 1.2676 - accuracy: 0.7094 - val_loss: 1.1956 - val_accuracy: 0.7507\n",
            "Epoch 95/100\n",
            "361/361 [==============================] - 29s 81ms/step - loss: 1.2677 - accuracy: 0.7052 - val_loss: 1.1920 - val_accuracy: 0.7465\n",
            "Epoch 96/100\n",
            "361/361 [==============================] - 29s 82ms/step - loss: 1.2698 - accuracy: 0.7072 - val_loss: 1.1917 - val_accuracy: 0.7521\n",
            "Epoch 97/100\n",
            "361/361 [==============================] - 29s 81ms/step - loss: 1.2765 - accuracy: 0.7033 - val_loss: 1.1887 - val_accuracy: 0.7409\n",
            "Epoch 98/100\n",
            "361/361 [==============================] - 30s 82ms/step - loss: 1.2701 - accuracy: 0.7083 - val_loss: 1.1711 - val_accuracy: 0.7619\n",
            "Epoch 99/100\n",
            "361/361 [==============================] - 31s 86ms/step - loss: 1.2612 - accuracy: 0.7092 - val_loss: 1.1758 - val_accuracy: 0.7696\n",
            "Epoch 100/100\n",
            "361/361 [==============================] - 31s 86ms/step - loss: 1.2740 - accuracy: 0.7063 - val_loss: 1.1907 - val_accuracy: 0.7612\n"
          ],
          "name": "stdout"
        }
      ]
    },
    {
      "cell_type": "code",
      "metadata": {
        "id": "uw6hW5p_Lwji"
      },
      "source": [
        "test_datagen = ImageDataGenerator(rescale = 1./255)"
      ],
      "execution_count": null,
      "outputs": []
    },
    {
      "cell_type": "code",
      "metadata": {
        "colab": {
          "base_uri": "https://localhost:8080/"
        },
        "id": "_QfOy0KtL4p0",
        "outputId": "20d64a12-bcba-4397-d4f4-eaa50cd23b6e"
      },
      "source": [
        "test_generator = test_datagen.flow_from_directory( directory = test_data_dir,\n",
        "                                                              target_size = (img_rows,img_cols),\n",
        "                                                              batch_size = 64,\n",
        "                                                              color_mode = \"grayscale\",\n",
        "                                                              class_mode = \"categorical\",\n",
        "                                                             )"
      ],
      "execution_count": null,
      "outputs": [
        {
          "output_type": "stream",
          "text": [
            "Found 7178 images belonging to 7 classes.\n"
          ],
          "name": "stdout"
        }
      ]
    },
    {
      "cell_type": "code",
      "metadata": {
        "colab": {
          "base_uri": "https://localhost:8080/"
        },
        "id": "fLIcT9pRTHF9",
        "outputId": "7f9fc1e5-9d52-4d49-91f9-83b5ff378c11"
      },
      "source": [
        "model.evaluate(test_generator)"
      ],
      "execution_count": null,
      "outputs": [
        {
          "output_type": "stream",
          "text": [
            "113/113 [==============================] - 3825s 34s/step - loss: 1.1823 - accuracy: 0.7466\n"
          ],
          "name": "stdout"
        },
        {
          "output_type": "execute_result",
          "data": {
            "text/plain": [
              "[1.1822683811187744, 0.746586799621582]"
            ]
          },
          "metadata": {
            "tags": []
          },
          "execution_count": 19
        }
      ]
    },
    {
      "cell_type": "code",
      "metadata": {
        "colab": {
          "base_uri": "https://localhost:8080/",
          "height": 285
        },
        "id": "zCtQtw87TJ2S",
        "outputId": "f1625b34-66d2-4d44-ebbe-54d0a00cf9fa"
      },
      "source": [
        "import cv2,matplotlib.pyplot as plt\n",
        "img=cv2.imread('/content/drive/MyDrive/test (1)/happy/im285.png')\n",
        "plt.imshow(img)"
      ],
      "execution_count": null,
      "outputs": [
        {
          "output_type": "execute_result",
          "data": {
            "text/plain": [
              "<matplotlib.image.AxesImage at 0x7fe060090cd0>"
            ]
          },
          "metadata": {
            "tags": []
          },
          "execution_count": 33
        },
        {
          "output_type": "display_data",
          "data": {
            "image/png": "[encoded data removed]",
            "text/plain": [
              "<Figure size 432x288 with 1 Axes>"
            ]
          },
          "metadata": {
            "tags": [],
            "needs_background": "light"
          }
        }
      ]
    },
    {
      "cell_type": "code",
      "metadata": {
        "colab": {
          "base_uri": "https://localhost:8080/",
          "height": 285
        },
        "id": "ZXLWHC08-JSF",
        "outputId": "4eafa5bf-13c6-4c1f-fb40-d47b7aeb518c"
      },
      "source": [
        "rgb_weights = [0.2989, 0.5870, 0.1140]\n",
        "grayscale_image = np.dot(img[0:224,0:224,:3], rgb_weights)\n",
        "plt.imshow(grayscale_image, cmap=plt.get_cmap(\"gray\"))"
      ],
      "execution_count": null,
      "outputs": [
        {
          "output_type": "execute_result",
          "data": {
            "text/plain": [
              "<matplotlib.image.AxesImage at 0x7fdefcc23ad0>"
            ]
          },
          "metadata": {
            "tags": []
          },
          "execution_count": 34
        },
        {
          "output_type": "display_data",
          "data": {
            "image/png": "[encoded data removed]",
            "text/plain": [
              "<Figure size 432x288 with 1 Axes>"
            ]
          },
          "metadata": {
            "tags": [],
            "needs_background": "light"
          }
        }
      ]
    },
    {
      "cell_type": "code",
      "metadata": {
        "colab": {
          "base_uri": "https://localhost:8080/"
        },
        "id": "7HInwpMO-ZfI",
        "outputId": "a1555528-34a6-4a1c-ab12-6a493a5fc996"
      },
      "source": [
        "print(img.shape)\n",
        "print(type(img))"
      ],
      "execution_count": null,
      "outputs": [
        {
          "output_type": "stream",
          "text": [
            "(48, 48, 3)\n",
            "<class 'numpy.ndarray'>\n"
          ],
          "name": "stdout"
        }
      ]
    },
    {
      "cell_type": "code",
      "metadata": {
        "colab": {
          "base_uri": "https://localhost:8080/"
        },
        "id": "qWc_YLwIjD6f",
        "outputId": "ffc147ab-7e15-47fb-a267-1988ef31c06d"
      },
      "source": [
        "train_generator.class_indices"
      ],
      "execution_count": null,
      "outputs": [
        {
          "output_type": "execute_result",
          "data": {
            "text/plain": [
              "{'angry': 0,\n",
              " 'disgust': 1,\n",
              " 'fear': 2,\n",
              " 'happy': 3,\n",
              " 'neutral': 4,\n",
              " 'sad': 5,\n",
              " 'surprise': 6}"
            ]
          },
          "metadata": {
            "tags": []
          },
          "execution_count": 36
        }
      ]
    },
    {
      "cell_type": "code",
      "metadata": {
        "colab": {
          "base_uri": "https://localhost:8080/"
        },
        "id": "Q76tJr-IP1Pj",
        "outputId": "c1489492-129a-4a10-833c-5a01e107c10e"
      },
      "source": [
        "import cv2\n",
        "def resize_fn(fp: str) -> np.ndarray:\n",
        "    \"\"\" Resize an image maintaining its proportions\n",
        "    Args:\n",
        "        fp (str): Path argument to image file\n",
        "        scale (Union[float, int]): Percent as whole number of original image. eg. 53\n",
        "    Returns:\n",
        "        image (np.ndarray): Scaled image\n",
        "    \"\"\"    \n",
        "    _scale = lambda dim, s: int(dim * s / 100)\n",
        "    im: np.ndarray = cv2.imread(fp)\n",
        "    #plt.imshow(im)\n",
        "    width, height, channels = im.shape\n",
        "    scale_1=(48*100)/width\n",
        "    scale_2=(48*100)/height\n",
        "    print(\"{},{},{}\".format(width,height,channels))\n",
        "    new_width: int = _scale(width, scale_1)\n",
        "    new_height: int = _scale(height, scale_2)\n",
        "    new_dim: tuple = (new_width, new_height)\n",
        "    return cv2.resize(src=im, dsize=new_dim, interpolation=cv2.INTER_LINEAR)\n",
        "order=['angry','disgust','fear','happy','neutral','sad','surprised']\n",
        "resized = resize_fn('/content/drive/MyDrive/test (1)/happy/im1724.png')\n",
        "print(resized.shape)\n",
        "rgb_weights = [0.2989, 0.5870, 0.1140]\n",
        "grayscale_image = np.dot(resized[0:48,0:48,:3], rgb_weights)\n",
        "grayscale_image = grayscale_image.reshape((48,48,1))\n",
        "X = np.zeros((1,48, 48, 1), dtype=np.float32)\n",
        "X[0]=grayscale_image\n",
        "z=model.predict(X)\n",
        "t=[x for x in range(0,7) if z[0][x]==max(max(model.predict(X)))]\n",
        "print(\"Emotion of the person in the image is: {}\".format(order[t[0]]))\n",
        "emotion_detected=order[t[0]]"
      ],
      "execution_count": null,
      "outputs": [
        {
          "output_type": "stream",
          "text": [
            "48,48,3\n",
            "(48, 48, 3)\n",
            "Emotion of the person in the image is: happy\n"
          ],
          "name": "stdout"
        }
      ]
    },
    {
      "cell_type": "code",
      "metadata": {
        "id": "FVoQ6xmvTeqK"
      },
      "source": [
        "import pathlib\n",
        "for path in pathlib.Path('/content/drive/MyDrive/test (1)/happy').iterdir():\n",
        "  order=['angry','disgust','fear','happy','neutral','sad','surprised']\n",
        "  resized = resize_fn(str(path))\n",
        "  rgb_weights = [0.2989, 0.5870, 0.1140]\n",
        "  grayscale_image = np.dot(resized[0:48,0:48,:3], rgb_weights)\n",
        "  grayscale_image = grayscale_image.reshape((48,48,1))\n",
        "  X = np.zeros((1,48, 48, 1), dtype=np.float32)\n",
        "  X[0]=grayscale_image\n",
        "  z=model.predict(X)\n",
        "  t=[x for x in range(0,7) if z[0][x]==max(max(model.predict(X)))]\n",
        "  if order[t[0]]=='happy':\n",
        "    print(\"Emotion of the person in the image is: {}\".format(order[t[0]]))\n",
        "    print(path)\n",
        "    break"
      ],
      "execution_count": null,
      "outputs": []
    },
    {
      "cell_type": "code",
      "metadata": {
        "colab": {
          "base_uri": "https://localhost:8080/"
        },
        "id": "aPXkjCWnkpOf",
        "outputId": "0e642825-4469-4566-a4f7-13641fd14e0f"
      },
      "source": [
        "print(emotion_detected.upper())"
      ],
      "execution_count": null,
      "outputs": [
        {
          "output_type": "stream",
          "text": [
            "HAPPY\n"
          ],
          "name": "stdout"
        }
      ]
    },
    {
      "cell_type": "code",
      "metadata": {
        "colab": {
          "base_uri": "https://localhost:8080/"
        },
        "id": "LwkOmidHliYW",
        "outputId": "ce5eee7b-7147-42ab-eb65-c236ff8b5787"
      },
      "source": [
        "!pip install gtts"
      ],
      "execution_count": null,
      "outputs": [
        {
          "output_type": "stream",
          "text": [
            "Collecting gtts\n",
            "  Downloading https://files.pythonhosted.org/packages/5f/b9/94e59337107be134b21ce395a29fc0715b707b560108d6797de2d93e1178/gTTS-2.2.2-py3-none-any.whl\n",
            "Requirement already satisfied: six in /usr/local/lib/python3.7/dist-packages (from gtts) (1.15.0)\n",
            "Requirement already satisfied: requests in /usr/local/lib/python3.7/dist-packages (from gtts) (2.23.0)\n",
            "Requirement already satisfied: click in /usr/local/lib/python3.7/dist-packages (from gtts) (7.1.2)\n",
            "Requirement already satisfied: urllib3!=1.25.0,!=1.25.1,<1.26,>=1.21.1 in /usr/local/lib/python3.7/dist-packages (from requests->gtts) (1.24.3)\n",
            "Requirement already satisfied: certifi>=2017.4.17 in /usr/local/lib/python3.7/dist-packages (from requests->gtts) (2020.12.5)\n",
            "Requirement already satisfied: idna<3,>=2.5 in /usr/local/lib/python3.7/dist-packages (from requests->gtts) (2.10)\n",
            "Requirement already satisfied: chardet<4,>=3.0.2 in /usr/local/lib/python3.7/dist-packages (from requests->gtts) (3.0.4)\n",
            "Installing collected packages: gtts\n",
            "Successfully installed gtts-2.2.2\n"
          ],
          "name": "stdout"
        }
      ]
    },
    {
      "cell_type": "code",
      "metadata": {
        "colab": {
          "base_uri": "https://localhost:8080/",
          "height": 35
        },
        "id": "lSEv0VhLm2_i",
        "outputId": "edad7c35-028c-45b2-d631-7990761de36c"
      },
      "source": [
        "df.iloc[0]['SONG']"
      ],
      "execution_count": null,
      "outputs": [
        {
          "output_type": "execute_result",
          "data": {
            "application/vnd.google.colaboratory.intrinsic+json": {
              "type": "string"
            },
            "text/plain": [
              "'good feeling'"
            ]
          },
          "metadata": {
            "tags": []
          },
          "execution_count": 49
        }
      ]
    },
    {
      "cell_type": "code",
      "metadata": {
        "colab": {
          "base_uri": "https://localhost:8080/"
        },
        "id": "N68ZibxalMQr",
        "outputId": "01d7dbbf-78e9-4fbc-a50f-0b566fc30c69"
      },
      "source": [
        "import pandas as pd\n",
        "df=pd.read_csv(emotion_detected.upper()+'.csv')\n",
        "print(df)\n",
        "from gtts import gTTS \n",
        "from IPython.display import Audio\n",
        "tts = gTTS('Mood detected is: '+emotion_detected.upper()+'and, the list of suggested songs is:')\n",
        "length_db=len(df)\n",
        "a=[]\n",
        "for i in range(0,length_db):\n",
        "  b=gTTS(df.iloc[i]['SONG']+' by '+df.iloc[i]['ARTIST'])\n",
        "  b.save('a'+str(i)+'.mp3')\n",
        "  sound_file = 'a'+str(i)+'.mp3'\n",
        "  Audio(sound_file, autoplay=True)  \n",
        "tts.save('audio_file.mp3')\n",
        "sound_file = 'audio_file.mp3'\n",
        "#Audio(sound_file, autoplay=True)  "
      ],
      "execution_count": null,
      "outputs": [
        {
          "output_type": "stream",
          "text": [
            "              SONG  ...                   ARTIST\n",
            "0     good feeling  ...                  FloRida\n",
            "1   all I wanna do  ...     Jay Park X 1 MILLION\n",
            "2         all star  ...              Smash mouth\n",
            "3   life's a dance  ...  John Michael Montgomery\n",
            "4  I gotta feeling  ...          Black Eyed Peas\n",
            "\n",
            "[5 rows x 3 columns]\n"
          ],
          "name": "stdout"
        }
      ]
    },
    {
      "cell_type": "code",
      "metadata": {
        "colab": {
          "base_uri": "https://localhost:8080/"
        },
        "id": "F3690Td0poZH",
        "outputId": "b53c58c2-4f73-4f9a-e80e-ffbf7b0faaab"
      },
      "source": [
        "!pip install pydub"
      ],
      "execution_count": null,
      "outputs": [
        {
          "output_type": "stream",
          "text": [
            "Requirement already satisfied: pydub in /usr/local/lib/python3.7/dist-packages (0.25.1)\n"
          ],
          "name": "stdout"
        }
      ]
    },
    {
      "cell_type": "code",
      "metadata": {
        "id": "V7CPS0T6pacp"
      },
      "source": [
        "from pydub import AudioSegment\n",
        "sound=[]\n",
        "sound.append(AudioSegment.from_file(\"/content/audio_file.mp3\", format=\"mp3\"))\n",
        "for i in range(0,length_db):\n",
        "  a=AudioSegment.from_file(\"/content/a\"+str(i)+\".mp3\", format=\"mp3\")\n",
        "  sound.append(a)\n",
        "# sound1, with sound2 appended (use louder instead of sound1 to append the louder version)\n",
        "combined=0\n",
        "for i in sound:\n",
        "  combined=combined+i\n",
        "\n",
        "# simple export\n",
        "file_handle = combined.export(\"/content/output.mp3\", format=\"mp3\")"
      ],
      "execution_count": null,
      "outputs": []
    },
    {
      "cell_type": "markdown",
      "metadata": {
        "id": "Tor5VndbsQhh"
      },
      "source": [
        "##FOR HAPPY"
      ]
    },
    {
      "cell_type": "code",
      "metadata": {
        "colab": {
          "base_uri": "https://localhost:8080/",
          "height": 75
        },
        "id": "Gj6K4uSdqz98",
        "outputId": "cec7d4c7-05e4-4416-bbc1-4c4d6066aa4a"
      },
      "source": [
        "Audio('output.mp3', autoplay=True)"
      ],
      "execution_count": null,
      "outputs": [
        {
          "output_type": "execute_result",
          "data": {
            "text/html": [
              "\n",
              "                <audio controls=\"controls\" autoplay=\"autoplay\">\n",
              "                    <source src=\"data:audio/mpeg;base64,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\" type=\"audio/mpeg\" />\n",
              "                    Your browser does not support the audio element.\n",
              "                </audio>\n",
              "              "
            ],
            "text/plain": [
              "<IPython.lib.display.Audio object>"
            ]
          },
          "metadata": {
            "tags": []
          },
          "execution_count": 73
        }
      ]
    },
    {
      "cell_type": "code",
      "metadata": {
        "colab": {
          "base_uri": "https://localhost:8080/",
          "height": 206
        },
        "id": "EAEULfN0rizz",
        "outputId": "2ed9af0b-610b-4d7a-d651-912afcbb9b42"
      },
      "source": [
        "df.head()"
      ],
      "execution_count": null,
      "outputs": [
        {
          "output_type": "execute_result",
          "data": {
            "text/html": [
              "<div>\n",
              "<style scoped>\n",
              "    .dataframe tbody tr th:only-of-type {\n",
              "        vertical-align: middle;\n",
              "    }\n",
              "\n",
              "    .dataframe tbody tr th {\n",
              "        vertical-align: top;\n",
              "    }\n",
              "\n",
              "    .dataframe thead th {\n",
              "        text-align: right;\n",
              "    }\n",
              "</style>\n",
              "<table border=\"1\" class=\"dataframe\">\n",
              "  <thead>\n",
              "    <tr style=\"text-align: right;\">\n",
              "      <th></th>\n",
              "      <th>SONG</th>\n",
              "      <th>YT_LINK</th>\n",
              "      <th>ARTIST</th>\n",
              "    </tr>\n",
              "  </thead>\n",
              "  <tbody>\n",
              "    <tr>\n",
              "      <th>0</th>\n",
              "      <td>good feeling</td>\n",
              "      <td>https://www.youtube.com/watch?v=3OnnDqH6Wj8</td>\n",
              "      <td>FloRida</td>\n",
              "    </tr>\n",
              "    <tr>\n",
              "      <th>1</th>\n",
              "      <td>all I wanna do</td>\n",
              "      <td>https://www.youtube.com/watch?v=lT7Q93fy1us</td>\n",
              "      <td>Jay Park X 1 MILLION</td>\n",
              "    </tr>\n",
              "    <tr>\n",
              "      <th>2</th>\n",
              "      <td>all star</td>\n",
              "      <td>https://www.youtube.com/watch?v=L_jWHffIx5E</td>\n",
              "      <td>Smash mouth</td>\n",
              "    </tr>\n",
              "    <tr>\n",
              "      <th>3</th>\n",
              "      <td>life's a dance</td>\n",
              "      <td>https://www.youtube.com/watch?v=TOp_EW-Mirs</td>\n",
              "      <td>John Michael Montgomery</td>\n",
              "    </tr>\n",
              "    <tr>\n",
              "      <th>4</th>\n",
              "      <td>I gotta feeling</td>\n",
              "      <td>https://www.youtube.com/watch?v=uSD4vsh1zDA</td>\n",
              "      <td>Black Eyed Peas</td>\n",
              "    </tr>\n",
              "  </tbody>\n",
              "</table>\n",
              "</div>"
            ],
            "text/plain": [
              "              SONG  ...                   ARTIST\n",
              "0     good feeling  ...                  FloRida\n",
              "1   all I wanna do  ...     Jay Park X 1 MILLION\n",
              "2         all star  ...              Smash mouth\n",
              "3   life's a dance  ...  John Michael Montgomery\n",
              "4  I gotta feeling  ...          Black Eyed Peas\n",
              "\n",
              "[5 rows x 3 columns]"
            ]
          },
          "metadata": {
            "tags": []
          },
          "execution_count": 74
        }
      ]
    },
    {
      "cell_type": "code",
      "metadata": {
        "colab": {
          "base_uri": "https://localhost:8080/"
        },
        "id": "a4r9cm1qr1Jd",
        "outputId": "ee5a6458-9aad-40eb-e57e-ebd3b4e48182"
      },
      "source": [
        "import cv2\n",
        "def resize_fn(fp: str) -> np.ndarray:\n",
        "    \"\"\" Resize an image maintaining its proportions\n",
        "    Args:\n",
        "        fp (str): Path argument to image file\n",
        "        scale (Union[float, int]): Percent as whole number of original image. eg. 53\n",
        "    Returns:\n",
        "        image (np.ndarray): Scaled image\n",
        "    \"\"\"    \n",
        "    _scale = lambda dim, s: int(dim * s / 100)\n",
        "    im: np.ndarray = cv2.imread(fp)\n",
        "    #plt.imshow(im)\n",
        "    width, height, channels = im.shape\n",
        "    scale_1=(48*100)/width\n",
        "    scale_2=(48*100)/height\n",
        "    print(\"{},{},{}\".format(width,height,channels))\n",
        "    new_width: int = _scale(width, scale_1)\n",
        "    new_height: int = _scale(height, scale_2)\n",
        "    new_dim: tuple = (new_width, new_height)\n",
        "    return cv2.resize(src=im, dsize=new_dim, interpolation=cv2.INTER_LINEAR)\n",
        "order=['angry','disgust','fear','happy','neutral','sad','surprised']\n",
        "resized = resize_fn('/content/drive/MyDrive/test (1)/angry/im0.png')\n",
        "print(resized.shape)\n",
        "rgb_weights = [0.2989, 0.5870, 0.1140]\n",
        "grayscale_image = np.dot(resized[0:48,0:48,:3], rgb_weights)\n",
        "grayscale_image = grayscale_image.reshape((48,48,1))\n",
        "X = np.zeros((1,48, 48, 1), dtype=np.float32)\n",
        "X[0]=grayscale_image\n",
        "z=model.predict(X)\n",
        "t=[x for x in range(0,7) if z[0][x]==max(max(model.predict(X)))]\n",
        "print(\"Emotion of the person in the image is: {}\".format(order[t[0]]))\n",
        "emotion_detected=order[t[0]]"
      ],
      "execution_count": null,
      "outputs": [
        {
          "output_type": "stream",
          "text": [
            "48,48,3\n",
            "(48, 48, 3)\n",
            "Emotion of the person in the image is: angry\n"
          ],
          "name": "stdout"
        }
      ]
    },
    {
      "cell_type": "code",
      "metadata": {
        "colab": {
          "base_uri": "https://localhost:8080/"
        },
        "id": "Kb9wbKy-sBtP",
        "outputId": "792ffd72-273c-47e5-d38b-c4526dc7ed71"
      },
      "source": [
        "import pandas as pd\n",
        "df=pd.read_csv(emotion_detected.upper()+'.csv')\n",
        "print(df)\n",
        "from gtts import gTTS \n",
        "from IPython.display import Audio\n",
        "tts = gTTS('Mood detected is: '+emotion_detected.upper()+'and, the list of suggested songs is:')\n",
        "length_db=len(df)\n",
        "a=[]\n",
        "for i in range(0,length_db):\n",
        "  b=gTTS(df.iloc[i]['SONG']+' by '+df.iloc[i]['ARTIST'])\n",
        "  b.save('a'+str(i)+'.mp3')\n",
        "  sound_file = 'a'+str(i)+'.mp3'\n",
        "  Audio(sound_file, autoplay=True)  \n",
        "tts.save('audio_file.mp3')\n",
        "sound_file = 'audio_file.mp3'\n",
        "#Audio(sound_file, autoplay=True)  "
      ],
      "execution_count": null,
      "outputs": [
        {
          "output_type": "stream",
          "text": [
            "               SONG  ...            ARTIST\n",
            "0  You don't own me  ...             Grace\n",
            "1           Dreamin  ...         The score\n",
            "2    Female robbery  ...  The neighborhood\n",
            "3     Bury a friend  ...     Billie Ellish\n",
            "4        Without me  ...            Halsey\n",
            "\n",
            "[5 rows x 3 columns]\n"
          ],
          "name": "stdout"
        }
      ]
    },
    {
      "cell_type": "code",
      "metadata": {
        "id": "d0sI8X4DsFnR"
      },
      "source": [
        "from pydub import AudioSegment\n",
        "sound=[]\n",
        "sound.append(AudioSegment.from_file(\"/content/audio_file.mp3\", format=\"mp3\"))\n",
        "for i in range(0,length_db):\n",
        "  a=AudioSegment.from_file(\"/content/a\"+str(i)+\".mp3\", format=\"mp3\")\n",
        "  sound.append(a)\n",
        "# sound1, with sound2 appended (use louder instead of sound1 to append the louder version)\n",
        "combined=0\n",
        "for i in sound:\n",
        "  combined=combined+i\n",
        "\n",
        "# simple export\n",
        "file_handle = combined.export(\"/content/output.mp3\", format=\"mp3\")"
      ],
      "execution_count": null,
      "outputs": []
    },
    {
      "cell_type": "markdown",
      "metadata": {
        "id": "H4JqaRZKsTVe"
      },
      "source": [
        "##FOR ANGRY. SIMILARLY, CAN DO FOR ALL THE OTHER EMOTIONS."
      ]
    },
    {
      "cell_type": "code",
      "metadata": {
        "colab": {
          "base_uri": "https://localhost:8080/",
          "height": 75
        },
        "id": "GIapjRBfsJH3",
        "outputId": "06bd41c4-28a8-45ad-a87a-0ec8e49c02b8"
      },
      "source": [
        "Audio('output.mp3', autoplay=True)"
      ],
      "execution_count": null,
      "outputs": [
        {
          "output_type": "execute_result",
          "data": {
            "text/html": [
              "\n",
              "                <audio controls=\"controls\" autoplay=\"autoplay\">\n",
              "                    <source src=\"data:audio/mpeg;base64,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\" type=\"audio/mpeg\" />\n",
              "                    Your browser does not support the audio element.\n",
              "                </audio>\n",
              "              "
            ],
            "text/plain": [
              "<IPython.lib.display.Audio object>"
            ]
          },
          "metadata": {
            "tags": []
          },
          "execution_count": 78
        }
      ]
    },
    {
      "cell_type": "code",
      "metadata": {
        "colab": {
          "base_uri": "https://localhost:8080/",
          "height": 206
        },
        "id": "vBrlh-0MsL69",
        "outputId": "ed53a8f7-c889-46fd-f00a-2c6ab4d50bce"
      },
      "source": [
        "df.head()"
      ],
      "execution_count": null,
      "outputs": [
        {
          "output_type": "execute_result",
          "data": {
            "text/html": [
              "<div>\n",
              "<style scoped>\n",
              "    .dataframe tbody tr th:only-of-type {\n",
              "        vertical-align: middle;\n",
              "    }\n",
              "\n",
              "    .dataframe tbody tr th {\n",
              "        vertical-align: top;\n",
              "    }\n",
              "\n",
              "    .dataframe thead th {\n",
              "        text-align: right;\n",
              "    }\n",
              "</style>\n",
              "<table border=\"1\" class=\"dataframe\">\n",
              "  <thead>\n",
              "    <tr style=\"text-align: right;\">\n",
              "      <th></th>\n",
              "      <th>SONG</th>\n",
              "      <th>YT_LINK</th>\n",
              "      <th>ARTIST</th>\n",
              "    </tr>\n",
              "  </thead>\n",
              "  <tbody>\n",
              "    <tr>\n",
              "      <th>0</th>\n",
              "      <td>You don't own me</td>\n",
              "      <td>https://www.youtube.com/watch?v=8SeRU_ZPDkE</td>\n",
              "      <td>Grace</td>\n",
              "    </tr>\n",
              "    <tr>\n",
              "      <th>1</th>\n",
              "      <td>Dreamin</td>\n",
              "      <td>https://www.youtube.com/watch?v=GEK77vOHjyE</td>\n",
              "      <td>The score</td>\n",
              "    </tr>\n",
              "    <tr>\n",
              "      <th>2</th>\n",
              "      <td>Female robbery</td>\n",
              "      <td>https://www.youtube.com/watch?v=jwK7-u_0VWk</td>\n",
              "      <td>The neighborhood</td>\n",
              "    </tr>\n",
              "    <tr>\n",
              "      <th>3</th>\n",
              "      <td>Bury a friend</td>\n",
              "      <td>https://www.youtube.com/watch?v=HUHC9tYz8ik</td>\n",
              "      <td>Billie Ellish</td>\n",
              "    </tr>\n",
              "    <tr>\n",
              "      <th>4</th>\n",
              "      <td>Without me</td>\n",
              "      <td>https://www.youtube.com/watch?v=ZAfAud_M_mg</td>\n",
              "      <td>Halsey</td>\n",
              "    </tr>\n",
              "  </tbody>\n",
              "</table>\n",
              "</div>"
            ],
            "text/plain": [
              "               SONG  ...            ARTIST\n",
              "0  You don't own me  ...             Grace\n",
              "1           Dreamin  ...         The score\n",
              "2    Female robbery  ...  The neighborhood\n",
              "3     Bury a friend  ...     Billie Ellish\n",
              "4        Without me  ...            Halsey\n",
              "\n",
              "[5 rows x 3 columns]"
            ]
          },
          "metadata": {
            "tags": []
          },
          "execution_count": 79
        }
      ]
    }
  ]
}